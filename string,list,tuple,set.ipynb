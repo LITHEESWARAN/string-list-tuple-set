{
 "cells": [
  {
   "cell_type": "markdown",
   "id": "cac6637d",
   "metadata": {},
   "source": [
    "# String Based Assignment Problem"
   ]
  },
  {
   "cell_type": "code",
   "execution_count": 214,
   "id": "5bab02ae",
   "metadata": {},
   "outputs": [
    {
     "name": "stdout",
     "output_type": "stream",
     "text": [
      "Reversed string: .elpmas gnirtS .gnirts elpmas a si sihT !dlrow ,olleH\n"
     ]
    }
   ],
   "source": [
    "# 1.reverse a string\n",
    "s = \"Hello, world! This is a sample string. String sample.\"\n",
    "reversed_string = s[::-1]\n",
    "print(\"Reversed string:\", reversed_string)\n"
   ]
  },
  {
   "cell_type": "code",
   "execution_count": 2,
   "id": "8eaa3d1b",
   "metadata": {},
   "outputs": [
    {
     "name": "stdout",
     "output_type": "stream",
     "text": [
      "Is palindrome: True\n"
     ]
    }
   ],
   "source": [
    "#2.Check if a string is a palindrome\n",
    "s = \"racecar\"\n",
    "is_palindrome = s == s[::-1]\n",
    "print(\"Is palindrome:\", is_palindrome)\n"
   ]
  },
  {
   "cell_type": "code",
   "execution_count": 3,
   "id": "04d09b44",
   "metadata": {},
   "outputs": [
    {
     "name": "stdout",
     "output_type": "stream",
     "text": [
      "Uppercase: HELLO, WORLD!\n"
     ]
    }
   ],
   "source": [
    "#3.Convert a string to uppercase\n",
    "s = \"Hello, world!\"\n",
    "uppercase_string = s.upper()\n",
    "print(\"Uppercase:\", uppercase_string)\n"
   ]
  },
  {
   "cell_type": "code",
   "execution_count": 4,
   "id": "14e335d4",
   "metadata": {},
   "outputs": [
    {
     "name": "stdout",
     "output_type": "stream",
     "text": [
      "Lowercase: hello, world!\n"
     ]
    }
   ],
   "source": [
    "#4.Convert a string to lowercase\n",
    "s = \"Hello, world!\"\n",
    "lowercase_string = s.lower()\n",
    "print(\"Lowercase:\", lowercase_string)\n"
   ]
  },
  {
   "cell_type": "code",
   "execution_count": 5,
   "id": "c4146eed",
   "metadata": {},
   "outputs": [
    {
     "name": "stdout",
     "output_type": "stream",
     "text": [
      "Vowel count: 3\n"
     ]
    }
   ],
   "source": [
    "#5.Count the number of vowels in a string\n",
    "s = \"Hello, world!\"\n",
    "vowels = 'aeiouAEIOU'\n",
    "vowel_count = sum(1 for char in s if char in vowels)\n",
    "print(\"Vowel count:\", vowel_count)\n"
   ]
  },
  {
   "cell_type": "code",
   "execution_count": 7,
   "id": "ce8b3be3",
   "metadata": {},
   "outputs": [
    {
     "name": "stdout",
     "output_type": "stream",
     "text": [
      "Consonant count: 7\n"
     ]
    }
   ],
   "source": [
    "#6.Count the number of consonants in a string\n",
    "s = \"Hello, world!\"\n",
    "vowels = 'aeiouAEIOU'\n",
    "consonant_count = sum(1 for char in s if char.isalpha() and char not in vowels)\n",
    "print(\"Consonant count:\", consonant_count)\n",
    "\n"
   ]
  },
  {
   "cell_type": "code",
   "execution_count": 8,
   "id": "3063aced",
   "metadata": {},
   "outputs": [
    {
     "name": "stdout",
     "output_type": "stream",
     "text": [
      "Without whitespaces: Hello,world!\n"
     ]
    }
   ],
   "source": [
    "#7.Remove all whitespaces from a string\n",
    "s = \"Hello, world!\"\n",
    "no_whitespaces = s.replace(\" \", \"\")\n",
    "print(\"Without whitespaces:\", no_whitespaces)\n"
   ]
  },
  {
   "cell_type": "code",
   "execution_count": 9,
   "id": "fe9ba01f",
   "metadata": {},
   "outputs": [
    {
     "name": "stdout",
     "output_type": "stream",
     "text": [
      "Length: 13\n"
     ]
    }
   ],
   "source": [
    "#8.Find the length of a string without using the len\n",
    "s = \"Hello, world!\"\n",
    "length = 0\n",
    "for char in s:\n",
    "    length += 1\n",
    "print(\"Length:\", length)\n"
   ]
  },
  {
   "cell_type": "code",
   "execution_count": 10,
   "id": "3b92e86d",
   "metadata": {},
   "outputs": [
    {
     "name": "stdout",
     "output_type": "stream",
     "text": [
      "Contains 'sample': True\n"
     ]
    }
   ],
   "source": [
    "#9.Check if a string contains a specific word\n",
    "s = \"Hello, world! This is a sample string.\"\n",
    "word_to_find = 'sample'\n",
    "contains_word = word_to_find in s\n",
    "print(\"Contains 'sample':\", contains_word)\n"
   ]
  },
  {
   "cell_type": "code",
   "execution_count": 11,
   "id": "2c2a7ea6",
   "metadata": {},
   "outputs": [
    {
     "name": "stdout",
     "output_type": "stream",
     "text": [
      "Replace 'sample' with 'example': This is a example string.\n"
     ]
    }
   ],
   "source": [
    "#10.Replace a word in a string with another word\n",
    "s = \"This is a sample string.\"\n",
    "old_word = 'sample'\n",
    "new_word = 'example'\n",
    "replaced_string = s.replace(old_word, new_word)\n",
    "print(\"Replace 'sample' with 'example':\", replaced_string)\n"
   ]
  },
  {
   "cell_type": "code",
   "execution_count": 12,
   "id": "02ed7322",
   "metadata": {},
   "outputs": [
    {
     "name": "stdout",
     "output_type": "stream",
     "text": [
      "Count 'sample': 2\n"
     ]
    }
   ],
   "source": [
    "#11.Count the occurrences of a word in a string\n",
    "s = \"This is a sample string. Sample string.\"\n",
    "word_to_find = 'sample'\n",
    "word_occurrences = s.lower().split().count(word_to_find.lower())\n",
    "print(\"Count 'sample':\", word_occurrences)\n"
   ]
  },
  {
   "cell_type": "code",
   "execution_count": 13,
   "id": "33d1ff85",
   "metadata": {},
   "outputs": [
    {
     "name": "stdout",
     "output_type": "stream",
     "text": [
      "First occurrence of 'sample': 10\n"
     ]
    }
   ],
   "source": [
    "#12.Find the first occurrence of a word in a string\n",
    "s = \"This is a sample string. Sample string.\"\n",
    "word_to_find = 'sample'\n",
    "first_occurrence = s.lower().find(word_to_find.lower())\n",
    "print(\"First occurrence of 'sample':\", first_occurrence)\n"
   ]
  },
  {
   "cell_type": "code",
   "execution_count": 14,
   "id": "aaf86170",
   "metadata": {},
   "outputs": [
    {
     "name": "stdout",
     "output_type": "stream",
     "text": [
      "Last occurrence of 'sample': 25\n"
     ]
    }
   ],
   "source": [
    "#13.Find the last occurrence of a word in a string\n",
    "s = \"This is a sample string. Sample string.\"\n",
    "word_to_find = 'sample'\n",
    "last_occurrence = s.lower().rfind(word_to_find.lower())\n",
    "print(\"Last occurrence of 'sample':\", last_occurrence)\n"
   ]
  },
  {
   "cell_type": "code",
   "execution_count": 15,
   "id": "f9c39201",
   "metadata": {},
   "outputs": [
    {
     "name": "stdout",
     "output_type": "stream",
     "text": [
      "Split into words: ['This', 'is', 'a', 'sample', 'string.']\n"
     ]
    }
   ],
   "source": [
    "#14.Split a string into a list of words\n",
    "s = \"This is a sample string.\"\n",
    "words_list = s.split()\n",
    "print(\"Split into words:\", words_list)\n"
   ]
  },
  {
   "cell_type": "code",
   "execution_count": 16,
   "id": "3bf36a0b",
   "metadata": {},
   "outputs": [
    {
     "name": "stdout",
     "output_type": "stream",
     "text": [
      "Join words: This is a sample string.\n"
     ]
    }
   ],
   "source": [
    "#15.Join a list of words into a string\n",
    "words_list = [\"This\", \"is\", \"a\", \"sample\", \"string.\"]\n",
    "joined_string = \" \".join(words_list)\n",
    "print(\"Join words:\", joined_string)\n"
   ]
  },
  {
   "cell_type": "code",
   "execution_count": 17,
   "id": "56a2d0bd",
   "metadata": {},
   "outputs": [
    {
     "name": "stdout",
     "output_type": "stream",
     "text": [
      "Underscored string: This_is_a_sample_string.\n"
     ]
    }
   ],
   "source": [
    "#16.Convert a string where words are separated by spaces to one where words are separated by underscores\n",
    "s = \"This is a sample string.\"\n",
    "underscored_string = s.replace(\" \", \"_\")\n",
    "print(\"Underscored string:\", underscored_string)\n"
   ]
  },
  {
   "cell_type": "code",
   "execution_count": 18,
   "id": "9786094e",
   "metadata": {},
   "outputs": [
    {
     "name": "stdout",
     "output_type": "stream",
     "text": [
      "Starts with 'Hello': True\n"
     ]
    }
   ],
   "source": [
    "#17.Check if a string starts with a specific word or phrase\n",
    "s = \"Hello, world!\"\n",
    "start_word = \"Hello\"\n",
    "starts_with = s.startswith(start_word)\n",
    "print(f\"Starts with '{start_word}':\", starts_with)\n"
   ]
  },
  {
   "cell_type": "code",
   "execution_count": 19,
   "id": "637d6b64",
   "metadata": {},
   "outputs": [
    {
     "name": "stdout",
     "output_type": "stream",
     "text": [
      "True\n"
     ]
    }
   ],
   "source": [
    "# 18. Check if a string ends with a specific word or phrase.\n",
    "string = \"hello world\"\n",
    "phrase = \"world\"\n",
    "ends_with_phrase = string.endswith(phrase)\n",
    "print(ends_with_phrase)\n"
   ]
  },
  {
   "cell_type": "code",
   "execution_count": 20,
   "id": "1b713b41",
   "metadata": {},
   "outputs": [
    {
     "name": "stdout",
     "output_type": "stream",
     "text": [
      "Hello World\n"
     ]
    }
   ],
   "source": [
    "# 19. Convert a string to title case (e.g., \"hello world\" to \"Hello World\").\n",
    "string = \"hello world\"\n",
    "title_case_string = string.title()\n",
    "print(title_case_string)\n"
   ]
  },
  {
   "cell_type": "code",
   "execution_count": 21,
   "id": "242ccbf2",
   "metadata": {},
   "outputs": [
    {
     "name": "stdout",
     "output_type": "stream",
     "text": [
      "universe\n"
     ]
    }
   ],
   "source": [
    "# 20. Find the longest word in a string.\n",
    "string = \"hello world and universe\"\n",
    "longest_word = max(string.split(), key=len)\n",
    "print(longest_word)\n"
   ]
  },
  {
   "cell_type": "code",
   "execution_count": 22,
   "id": "22e1e90a",
   "metadata": {},
   "outputs": [
    {
     "name": "stdout",
     "output_type": "stream",
     "text": [
      "and\n"
     ]
    }
   ],
   "source": [
    "# 21. Find the shortest word in a string.\n",
    "string = \"hello world and universe\"\n",
    "shortest_word = min(string.split(), key=len)\n",
    "print(shortest_word)\n"
   ]
  },
  {
   "cell_type": "code",
   "execution_count": 23,
   "id": "ec070887",
   "metadata": {},
   "outputs": [
    {
     "name": "stdout",
     "output_type": "stream",
     "text": [
      "universe and world hello\n"
     ]
    }
   ],
   "source": [
    "# 22. Reverse the order of words in a string.\n",
    "string = \"hello world and universe\"\n",
    "reversed_string = ' '.join(reversed(string.split()))\n",
    "print(reversed_string)\n"
   ]
  },
  {
   "cell_type": "code",
   "execution_count": 24,
   "id": "ab8f75d3",
   "metadata": {},
   "outputs": [
    {
     "name": "stdout",
     "output_type": "stream",
     "text": [
      "True\n"
     ]
    }
   ],
   "source": [
    "# 23. Check if a string is alphanumeric.\n",
    "string = \"hello123\"\n",
    "is_alphanumeric = string.isalnum()\n",
    "print(is_alphanumeric)\n"
   ]
  },
  {
   "cell_type": "code",
   "execution_count": 25,
   "id": "295db880",
   "metadata": {},
   "outputs": [
    {
     "name": "stdout",
     "output_type": "stream",
     "text": [
      "123456\n"
     ]
    }
   ],
   "source": [
    "# 24. Extract all digits from a string.\n",
    "string = \"hello123world456\"\n",
    "digits = ''.join(filter(str.isdigit, string))\n",
    "print(digits)\n"
   ]
  },
  {
   "cell_type": "code",
   "execution_count": 26,
   "id": "f4397266",
   "metadata": {},
   "outputs": [
    {
     "name": "stdout",
     "output_type": "stream",
     "text": [
      "helloworld\n"
     ]
    }
   ],
   "source": [
    "# 25. Extract all alphabets from a string.\n",
    "string = \"hello123world456\"\n",
    "alphabets = ''.join(filter(str.isalpha, string))\n",
    "print(alphabets)\n"
   ]
  },
  {
   "cell_type": "code",
   "execution_count": 27,
   "id": "52ff541c",
   "metadata": {},
   "outputs": [
    {
     "name": "stdout",
     "output_type": "stream",
     "text": [
      "2\n"
     ]
    }
   ],
   "source": [
    "# 26. Count the number of uppercase letters in a string.\n",
    "string = \"Hello World\"\n",
    "uppercase_count = sum(1 for c in string if c.isupper())\n",
    "print(uppercase_count)\n"
   ]
  },
  {
   "cell_type": "code",
   "execution_count": 28,
   "id": "88704af2",
   "metadata": {},
   "outputs": [
    {
     "name": "stdout",
     "output_type": "stream",
     "text": [
      "8\n"
     ]
    }
   ],
   "source": [
    "# 27. Count the number of lowercase letters in a string.\n",
    "string = \"Hello World\"\n",
    "lowercase_count = sum(1 for c in string if c.islower())\n",
    "print(lowercase_count)\n"
   ]
  },
  {
   "cell_type": "code",
   "execution_count": 29,
   "id": "4f0711b7",
   "metadata": {},
   "outputs": [
    {
     "name": "stdout",
     "output_type": "stream",
     "text": [
      "hELLO wORLD\n"
     ]
    }
   ],
   "source": [
    "# 28. Swap the case of each character in a string.\n",
    "string = \"Hello World\"\n",
    "swapped_string = string.swapcase()\n",
    "print(swapped_string)\n"
   ]
  },
  {
   "cell_type": "code",
   "execution_count": 30,
   "id": "3d598b6c",
   "metadata": {},
   "outputs": [
    {
     "name": "stdout",
     "output_type": "stream",
     "text": [
      "hello and universe\n"
     ]
    }
   ],
   "source": [
    "# 29. Remove a specific word from a string.\n",
    "string = \"hello world and universe\"\n",
    "word_to_remove = \"world\"\n",
    "string_without_word = ' '.join(w for w in string.split() if w != word_to_remove)\n",
    "print(string_without_word)\n"
   ]
  },
  {
   "cell_type": "code",
   "execution_count": 31,
   "id": "5bc281fe",
   "metadata": {},
   "outputs": [
    {
     "name": "stdout",
     "output_type": "stream",
     "text": [
      "True\n"
     ]
    }
   ],
   "source": [
    "# 30. Check if a string is a valid email address.\n",
    "import re\n",
    "\n",
    "email = \"example@example.com\"\n",
    "regex = r'^[a-zA-Z0-9._%+-]+@[a-zA-Z0-9.-]+\\.[a-zA-Z]{2,}$'\n",
    "is_valid_email = re.match(regex, email) is not None\n",
    "print(is_valid_email)\n"
   ]
  },
  {
   "cell_type": "code",
   "execution_count": 32,
   "id": "9c81bd7b",
   "metadata": {},
   "outputs": [
    {
     "name": "stdout",
     "output_type": "stream",
     "text": [
      "user\n"
     ]
    }
   ],
   "source": [
    "#31.Extract the username from an email address string.\n",
    "email = \"user@example.com\"\n",
    "username = email.split('@')[0]\n",
    "print(username)  \n"
   ]
  },
  {
   "cell_type": "code",
   "execution_count": 33,
   "id": "72f11c60",
   "metadata": {},
   "outputs": [
    {
     "name": "stdout",
     "output_type": "stream",
     "text": [
      "example.com\n"
     ]
    }
   ],
   "source": [
    "#32.Extract the domain name from an email address string.\n",
    "email = \"user@example.com\"\n",
    "domain = email.split('@')[1]\n",
    "print(domain)  \n"
   ]
  },
  {
   "cell_type": "code",
   "execution_count": 34,
   "id": "dfd31868",
   "metadata": {},
   "outputs": [
    {
     "name": "stdout",
     "output_type": "stream",
     "text": [
      "This is an example string.\n"
     ]
    }
   ],
   "source": [
    "#33. Replace multiple spaces in a string with a single space.\n",
    "text = \"This  is   an example    string.\"\n",
    "cleaned_text = ' '.join(text.split())\n",
    "print(cleaned_text)  \n"
   ]
  },
  {
   "cell_type": "code",
   "execution_count": 35,
   "id": "29503439",
   "metadata": {},
   "outputs": [
    {
     "name": "stdout",
     "output_type": "stream",
     "text": [
      "True\n"
     ]
    }
   ],
   "source": [
    "#34. Check if a string is a valid URL.\n",
    "import re\n",
    "\n",
    "url = \"https://www.example.com\"\n",
    "regex = re.compile(\n",
    "    r'^(?:http|https)://'  # http:// or https://\n",
    "    r'(?:(?:[A-Z0-9](?:[A-Z0-9-]{0,61}[A-Z0-9])?\\.)+(?:[A-Z]{2,6}\\.?|[A-Z0-9-]{2,}\\.?)|'  # domain...\n",
    "    r'localhost|'  # localhost...\n",
    "    r'\\d{1,3}\\.\\d{1,3}\\.\\d{1,3}\\.\\d{1,3}|'  # ...or ipv4\n",
    "    r'\\[?[A-F0-9]*:[A-F0-9:]+\\]?)'  # ...or ipv6\n",
    "    r'(?::\\d+)?'  # optional port\n",
    "    r'(?:/?|[/?]\\S+)$', re.IGNORECASE)\n",
    "is_url_valid = re.match(regex, url) is not None\n",
    "print(is_url_valid)  \n"
   ]
  },
  {
   "cell_type": "code",
   "execution_count": 36,
   "id": "804cd05f",
   "metadata": {},
   "outputs": [
    {
     "name": "stdout",
     "output_type": "stream",
     "text": [
      "https\n"
     ]
    }
   ],
   "source": [
    "#35. Extract the protocol (http or https) from a URL string.\n",
    "url = \"https://www.example.com\"\n",
    "protocol = url.split('://')[0]\n",
    "print(protocol)  "
   ]
  },
  {
   "cell_type": "code",
   "execution_count": 37,
   "id": "c0d18e4d",
   "metadata": {},
   "outputs": [
    {
     "name": "stdout",
     "output_type": "stream",
     "text": [
      "{'e': 2, 'x': 1, 'a': 1, 'm': 1, 'p': 1, 'l': 1}\n"
     ]
    }
   ],
   "source": [
    "#36. Find the frequency of each character in a string.\n",
    "from collections import Counter\n",
    "\n",
    "string = \"example\"\n",
    "frequency = dict(Counter(string))\n",
    "print(frequency) "
   ]
  },
  {
   "cell_type": "code",
   "execution_count": 38,
   "id": "8a044952",
   "metadata": {},
   "outputs": [
    {
     "name": "stdout",
     "output_type": "stream",
     "text": [
      "Hello world This is an example string\n"
     ]
    }
   ],
   "source": [
    "#37. Remove all punctuation from a string.\n",
    "import string\n",
    "\n",
    "text = \"Hello, world! This is an example string.\"\n",
    "cleaned_text = text.translate(str.maketrans('', '', string.punctuation))\n",
    "print(cleaned_text)  "
   ]
  },
  {
   "cell_type": "code",
   "execution_count": 39,
   "id": "f31a9254",
   "metadata": {},
   "outputs": [
    {
     "name": "stdout",
     "output_type": "stream",
     "text": [
      "True\n"
     ]
    }
   ],
   "source": [
    "#38. Check if a string contains only digits.\n",
    "text = \"123456\"\n",
    "is_only_digits = text.isdigit()\n",
    "print(is_only_digits)  \n"
   ]
  },
  {
   "cell_type": "code",
   "execution_count": 40,
   "id": "28ab304f",
   "metadata": {},
   "outputs": [
    {
     "name": "stdout",
     "output_type": "stream",
     "text": [
      "True\n"
     ]
    }
   ],
   "source": [
    "#39. Check if a string contains only alphabets.\n",
    "text = \"example\"\n",
    "is_only_alphabets = text.isalpha()\n",
    "print(is_only_alphabets) \n"
   ]
  },
  {
   "cell_type": "code",
   "execution_count": 41,
   "id": "c2ead918",
   "metadata": {},
   "outputs": [
    {
     "name": "stdout",
     "output_type": "stream",
     "text": [
      "['e', 'x', 'a', 'm', 'p', 'l', 'e']\n"
     ]
    }
   ],
   "source": [
    "#40. Convert a string to a list of characters\n",
    "text = \"example\"\n",
    "char_list = list(text)\n",
    "print(char_list)  \n"
   ]
  },
  {
   "cell_type": "code",
   "execution_count": 42,
   "id": "c1b8813f",
   "metadata": {},
   "outputs": [
    {
     "name": "stdout",
     "output_type": "stream",
     "text": [
      "True\n"
     ]
    }
   ],
   "source": [
    "#41. Check if two strings are anagrams.\n",
    "from collections import Counter\n",
    "\n",
    "str1 = \"listen\"\n",
    "str2 = \"silent\"\n",
    "are_anagrams = Counter(str1) == Counter(str2)\n",
    "print(are_anagrams)  \n"
   ]
  },
  {
   "cell_type": "code",
   "execution_count": 43,
   "id": "ef61d252",
   "metadata": {},
   "outputs": [
    {
     "name": "stdout",
     "output_type": "stream",
     "text": [
      "hadpsoh\n"
     ]
    }
   ],
   "source": [
    "#42. Encode a string using a Caesar cipher.\n",
    "text = \"example\"\n",
    "shift = 3\n",
    "encoded_text = ''.join(chr((ord(char) - 97 + shift) % 26 + 97) for char in text)\n",
    "print(encoded_text)  \n"
   ]
  },
  {
   "cell_type": "code",
   "execution_count": 44,
   "id": "9c69db36",
   "metadata": {},
   "outputs": [
    {
     "name": "stdout",
     "output_type": "stream",
     "text": [
      "example\n"
     ]
    }
   ],
   "source": [
    "#43. Decode a Caesar cipher encoded string.\n",
    "encoded_text = \"hadpsoh\"\n",
    "shift = 3\n",
    "decoded_text = ''.join(chr((ord(char) - 97 - shift) % 26 + 97) for char in encoded_text)\n",
    "print(decoded_text)  \n"
   ]
  },
  {
   "cell_type": "code",
   "execution_count": 45,
   "id": "90d3ef29",
   "metadata": {},
   "outputs": [
    {
     "name": "stdout",
     "output_type": "stream",
     "text": [
      "('test', 3)\n"
     ]
    }
   ],
   "source": [
    "#44. Find the most frequent word in a string.\n",
    "from collections import Counter\n",
    "import re\n",
    "\n",
    "text = \"This is a test. This test is only a test.\"\n",
    "words = re.findall(r'\\w+', text.lower())\n",
    "most_common_word = Counter(words).most_common(1)[0]\n",
    "print(most_common_word)  \n"
   ]
  },
  {
   "cell_type": "code",
   "execution_count": 46,
   "id": "2ad309c9",
   "metadata": {},
   "outputs": [
    {
     "name": "stdout",
     "output_type": "stream",
     "text": [
      "{'only', 'test', 'a', 'is', 'this'}\n"
     ]
    }
   ],
   "source": [
    "#45. Find all unique words in a string.\n",
    "import re\n",
    "\n",
    "text = \"This is a test. This test is only a test.\"\n",
    "words = re.findall(r'\\w+', text.lower())\n",
    "unique_words = set(words)\n",
    "print(unique_words) \n"
   ]
  },
  {
   "cell_type": "code",
   "execution_count": 47,
   "id": "b155fd41",
   "metadata": {},
   "outputs": [
    {
     "name": "stdout",
     "output_type": "stream",
     "text": [
      "8\n"
     ]
    }
   ],
   "source": [
    "#46. Count the number of syllables in a string.\n",
    "import re\n",
    "\n",
    "text = \"This is a simple example.\"\n",
    "\n",
    "def count_syllables(word):\n",
    "    word = word.lower()\n",
    "    vowels = \"aeiou\"\n",
    "    syllables = 0\n",
    "    if word[0] in vowels:\n",
    "        syllables += 1\n",
    "    for index in range(1, len(word)):\n",
    "        if word[index] in vowels and word[index - 1] not in vowels:\n",
    "            syllables += 1\n",
    "    if word.endswith(\"e\"):\n",
    "        syllables -= 1\n",
    "    if word.endswith(\"le\") and len(word) > 2 and word[-3] not in vowels:\n",
    "        syllables += 1\n",
    "    if syllables == 0:\n",
    "        syllables += 1\n",
    "    return syllables\n",
    "\n",
    "words = re.findall(r'\\w+', text)\n",
    "total_syllables = sum(count_syllables(word) for word in words)\n",
    "print(total_syllables)  \n"
   ]
  },
  {
   "cell_type": "code",
   "execution_count": 48,
   "id": "01255871",
   "metadata": {},
   "outputs": [
    {
     "name": "stdout",
     "output_type": "stream",
     "text": [
      "True\n"
     ]
    }
   ],
   "source": [
    "#47. Check if a string contains any special characters.\n",
    "import re\n",
    "\n",
    "text = \"Hello, world!\"\n",
    "contains_special_characters = bool(re.search(r'[^a-zA-Z0-9\\s]', text))\n",
    "print(contains_special_characters)  \n"
   ]
  },
  {
   "cell_type": "code",
   "execution_count": 49,
   "id": "2edfdab7",
   "metadata": {},
   "outputs": [
    {
     "name": "stdout",
     "output_type": "stream",
     "text": [
      "This is example string.\n"
     ]
    }
   ],
   "source": [
    "#48. Remove the nth word from a string.\n",
    "text = \"This is an example string.\"\n",
    "n = 2\n",
    "words = text.split()\n",
    "if 0 <= n < len(words):\n",
    "    del words[n]\n",
    "result = ' '.join(words)\n",
    "print(result)\n"
   ]
  },
  {
   "cell_type": "code",
   "execution_count": 50,
   "id": "a0951bda",
   "metadata": {},
   "outputs": [
    {
     "name": "stdout",
     "output_type": "stream",
     "text": [
      "This is new an example string.\n"
     ]
    }
   ],
   "source": [
    "#49. Insert a word at the nth position in a string.\n",
    "text = \"This is an example string.\"\n",
    "word_to_insert = \"new\"\n",
    "n = 2\n",
    "words = text.split()\n",
    "if 0 <= n <= len(words):\n",
    "    words.insert(n, word_to_insert)\n",
    "result = ' '.join(words)\n",
    "print(result) \n"
   ]
  },
  {
   "cell_type": "code",
   "execution_count": 51,
   "id": "9008a4b9",
   "metadata": {},
   "outputs": [
    {
     "name": "stdout",
     "output_type": "stream",
     "text": [
      "[['name', 'age', 'city'], ['Alice', '30', 'New York'], ['Bob', '25', 'Los Angeles']]\n"
     ]
    }
   ],
   "source": [
    "#50. Convert a CSV string to a list of lists.\n",
    "import csv\n",
    "import io\n",
    "\n",
    "csv_string = \"name,age,city\\nAlice,30,New York\\nBob,25,Los Angeles\"\n",
    "f = io.StringIO(csv_string)\n",
    "reader = csv.reader(f)\n",
    "csv_list = list(reader)\n",
    "print(csv_list)  "
   ]
  },
  {
   "cell_type": "markdown",
   "id": "47b3863b",
   "metadata": {},
   "source": [
    "# List Based Practice Problem :"
   ]
  },
  {
   "cell_type": "code",
   "execution_count": 52,
   "id": "2ed0e1d7",
   "metadata": {},
   "outputs": [
    {
     "name": "stdout",
     "output_type": "stream",
     "text": [
      "[1, 2, 3, 4, 5, 6, 7, 8, 9, 10]\n"
     ]
    }
   ],
   "source": [
    "# 1. Create a list with integers from 1 to 10\n",
    "my_list = list(range(1, 11))\n",
    "print(my_list)\n"
   ]
  },
  {
   "cell_type": "code",
   "execution_count": 53,
   "id": "a6286b5f",
   "metadata": {},
   "outputs": [
    {
     "name": "stdout",
     "output_type": "stream",
     "text": [
      "10\n"
     ]
    }
   ],
   "source": [
    "# 2. Find the length of a list without using the len() function\n",
    "my_list = list(range(1, 11))\n",
    "length = 0\n",
    "for _ in my_list:\n",
    "    length += 1\n",
    "print(length)\n"
   ]
  },
  {
   "cell_type": "code",
   "execution_count": 54,
   "id": "cd6aab0c",
   "metadata": {},
   "outputs": [
    {
     "name": "stdout",
     "output_type": "stream",
     "text": [
      "[1, 2, 3, 4, 5, 6, 7, 8, 9, 10, 11]\n"
     ]
    }
   ],
   "source": [
    "# 3. Append an element to the end of a list\n",
    "my_list = list(range(1, 11))\n",
    "my_list.append(11)\n",
    "print(my_list)\n"
   ]
  },
  {
   "cell_type": "code",
   "execution_count": 55,
   "id": "9a01ef6f",
   "metadata": {},
   "outputs": [
    {
     "name": "stdout",
     "output_type": "stream",
     "text": [
      "[1, 2, 3, 4, 5, 15, 6, 7, 8, 9, 10]\n"
     ]
    }
   ],
   "source": [
    "# 4. Insert an element at a specific index in a list\n",
    "my_list = list(range(1, 11))\n",
    "my_list.insert(5, 15)  # Insert 15 at index 5\n",
    "print(my_list)\n"
   ]
  },
  {
   "cell_type": "code",
   "execution_count": 56,
   "id": "1b211a84",
   "metadata": {},
   "outputs": [
    {
     "name": "stdout",
     "output_type": "stream",
     "text": [
      "Before removing: [1, 2, 3, 4, 5, 6, 7, 8, 9, 10, 15]\n",
      "After removing: [1, 2, 3, 4, 5, 6, 7, 8, 9, 10]\n"
     ]
    }
   ],
   "source": [
    "# 5. Remove an element from a list by its value\n",
    "my_list = list(range(1, 11))\n",
    "my_list.append(15)\n",
    "print(\"Before removing:\", my_list)\n",
    "my_list.remove(15)\n",
    "print(\"After removing:\", my_list)\n"
   ]
  },
  {
   "cell_type": "code",
   "execution_count": 59,
   "id": "3ffeeec4",
   "metadata": {},
   "outputs": [
    {
     "name": "stdout",
     "output_type": "stream",
     "text": [
      "[1, 2, 3, 4, 5, 6, 7, 8, 9]\n"
     ]
    }
   ],
   "source": [
    "# 6. Remove an element from a list by its index\n",
    "my_list = list(range(1, 11))\n",
    "del my_list[9]  # Remove element at index 10\n",
    "print(my_list)\n"
   ]
  },
  {
   "cell_type": "code",
   "execution_count": 60,
   "id": "249fb49f",
   "metadata": {},
   "outputs": [
    {
     "name": "stdout",
     "output_type": "stream",
     "text": [
      "True\n"
     ]
    }
   ],
   "source": [
    "# 7. Check if an element exists in a list\n",
    "my_list = list(range(1, 11))\n",
    "exists = 5 in my_list\n",
    "print(exists)\n"
   ]
  },
  {
   "cell_type": "code",
   "execution_count": 61,
   "id": "3df08efd",
   "metadata": {},
   "outputs": [
    {
     "name": "stdout",
     "output_type": "stream",
     "text": [
      "4\n"
     ]
    }
   ],
   "source": [
    "# 8. Find the index of the first occurrence of an element in a list\n",
    "my_list = list(range(1, 11))\n",
    "index = my_list.index(5)\n",
    "print(index)\n"
   ]
  },
  {
   "cell_type": "code",
   "execution_count": 62,
   "id": "d936c1e4",
   "metadata": {},
   "outputs": [
    {
     "name": "stdout",
     "output_type": "stream",
     "text": [
      "1\n"
     ]
    }
   ],
   "source": [
    "# 9. Count the occurrences of an element in a list\n",
    "my_list = list(range(1, 11))\n",
    "count = my_list.count(5)\n",
    "print(count)\n"
   ]
  },
  {
   "cell_type": "code",
   "execution_count": 63,
   "id": "998721fa",
   "metadata": {},
   "outputs": [
    {
     "name": "stdout",
     "output_type": "stream",
     "text": [
      "[10, 9, 8, 7, 6, 5, 4, 3, 2, 1]\n"
     ]
    }
   ],
   "source": [
    "# 10. Reverse the order of elements in a list\n",
    "my_list = list(range(1, 11))\n",
    "my_list.reverse()\n",
    "print(my_list)\n"
   ]
  },
  {
   "cell_type": "code",
   "execution_count": 64,
   "id": "e68f7359",
   "metadata": {},
   "outputs": [
    {
     "name": "stdout",
     "output_type": "stream",
     "text": [
      "[1, 2, 3, 4, 5, 6, 7, 8, 9, 10]\n"
     ]
    }
   ],
   "source": [
    "# 11. Sort a list in ascending order\n",
    "my_list = [5, 3, 8, 1, 9, 2, 6, 7, 4, 10]\n",
    "my_list.sort()\n",
    "print(my_list)\n"
   ]
  },
  {
   "cell_type": "code",
   "execution_count": 65,
   "id": "1755c678",
   "metadata": {},
   "outputs": [
    {
     "name": "stdout",
     "output_type": "stream",
     "text": [
      "[10, 9, 8, 7, 6, 5, 4, 3, 2, 1]\n"
     ]
    }
   ],
   "source": [
    "# 12. Sort a list in descending order\n",
    "my_list = [5, 3, 8, 1, 9, 2, 6, 7, 4, 10]\n",
    "my_list.sort(reverse=True)\n",
    "print(my_list)\n"
   ]
  },
  {
   "cell_type": "code",
   "execution_count": 66,
   "id": "fd53aaef",
   "metadata": {},
   "outputs": [
    {
     "name": "stdout",
     "output_type": "stream",
     "text": [
      "[2, 4, 6, 8, 10, 12, 14, 16, 18, 20]\n"
     ]
    }
   ],
   "source": [
    "# 13. Create a list of even numbers from 1 to 20\n",
    "even_list = [x for x in range(1, 21) if x % 2 == 0]\n",
    "print(even_list)\n"
   ]
  },
  {
   "cell_type": "code",
   "execution_count": 67,
   "id": "f7b88c30",
   "metadata": {},
   "outputs": [
    {
     "name": "stdout",
     "output_type": "stream",
     "text": [
      "[1, 3, 5, 7, 9, 11, 13, 15, 17, 19]\n"
     ]
    }
   ],
   "source": [
    "# 14. Create a list of odd numbers from 1 to 20\n",
    "odd_list = [x for x in range(1, 21) if x % 2 != 0]\n",
    "print(odd_list)\n"
   ]
  },
  {
   "cell_type": "code",
   "execution_count": 68,
   "id": "6f1a4ce6",
   "metadata": {},
   "outputs": [
    {
     "name": "stdout",
     "output_type": "stream",
     "text": [
      "55\n"
     ]
    }
   ],
   "source": [
    "# 15. Find the sum of all elements in a list\n",
    "my_list = [1, 2, 3, 4, 5, 6, 7, 8, 9, 10]\n",
    "total_sum = sum(my_list)\n",
    "print(total_sum)\n"
   ]
  },
  {
   "cell_type": "code",
   "execution_count": 69,
   "id": "3a64ad2d",
   "metadata": {},
   "outputs": [
    {
     "name": "stdout",
     "output_type": "stream",
     "text": [
      "10\n"
     ]
    }
   ],
   "source": [
    "# 16. Find the maximum value in a list\n",
    "my_list = [1, 2, 3, 4, 5, 6, 7, 8, 9, 10]\n",
    "max_value = max(my_list)\n",
    "print(max_value)\n"
   ]
  },
  {
   "cell_type": "code",
   "execution_count": 70,
   "id": "f63dec15",
   "metadata": {},
   "outputs": [
    {
     "name": "stdout",
     "output_type": "stream",
     "text": [
      "1\n"
     ]
    }
   ],
   "source": [
    "# 17. Find the minimum value in a list\n",
    "my_list = [1, 2, 3, 4, 5, 6, 7, 8, 9, 10]\n",
    "min_value = min(my_list)\n",
    "print(min_value)\n"
   ]
  },
  {
   "cell_type": "code",
   "execution_count": 71,
   "id": "1de233f1",
   "metadata": {},
   "outputs": [
    {
     "name": "stdout",
     "output_type": "stream",
     "text": [
      "[1, 4, 9, 16, 25, 36, 49, 64, 81, 100]\n"
     ]
    }
   ],
   "source": [
    "# 18. Create a list of squares of numbers from 1 to 10\n",
    "squares_list = [x**2 for x in range(1, 11)]\n",
    "print(squares_list)\n"
   ]
  },
  {
   "cell_type": "code",
   "execution_count": 72,
   "id": "7464c941",
   "metadata": {},
   "outputs": [
    {
     "name": "stdout",
     "output_type": "stream",
     "text": [
      "[59, 99, 45, 44, 55, 81, 89, 74, 32, 21]\n"
     ]
    }
   ],
   "source": [
    "# 19. Create a list of random numbers\n",
    "import random\n",
    "random_list = [random.randint(1, 100) for _ in range(10)]\n",
    "print(random_list)\n"
   ]
  },
  {
   "cell_type": "code",
   "execution_count": 73,
   "id": "41d19acb",
   "metadata": {},
   "outputs": [
    {
     "name": "stdout",
     "output_type": "stream",
     "text": [
      "[1, 2, 3, 4, 5]\n"
     ]
    }
   ],
   "source": [
    "# 20. Remove duplicates from a list\n",
    "my_list = [1, 2, 2, 3, 4, 4, 5]\n",
    "unique_list = list(set(my_list))\n",
    "print(unique_list)\n"
   ]
  },
  {
   "cell_type": "code",
   "execution_count": 74,
   "id": "1fccdbd9",
   "metadata": {},
   "outputs": [
    {
     "name": "stdout",
     "output_type": "stream",
     "text": [
      "[4, 5]\n"
     ]
    }
   ],
   "source": [
    "# 21. Find the common elements between two lists\n",
    "list1 = [1, 2, 3, 4, 5]\n",
    "list2 = [4, 5, 6, 7, 8]\n",
    "common_elements = list(set(list1) & set(list2))\n",
    "print(common_elements)\n"
   ]
  },
  {
   "cell_type": "code",
   "execution_count": 75,
   "id": "fe366812",
   "metadata": {},
   "outputs": [
    {
     "name": "stdout",
     "output_type": "stream",
     "text": [
      "[1, 2, 3]\n"
     ]
    }
   ],
   "source": [
    "# 22. Find the difference between two lists\n",
    "list1 = [1, 2, 3, 4, 5]\n",
    "list2 = [4, 5, 6, 7, 8]\n",
    "difference = list(set(list1) - set(list2))\n",
    "print(difference)\n"
   ]
  },
  {
   "cell_type": "code",
   "execution_count": 76,
   "id": "a236c3e8",
   "metadata": {},
   "outputs": [
    {
     "name": "stdout",
     "output_type": "stream",
     "text": [
      "[1, 2, 3, 4, 5, 6]\n"
     ]
    }
   ],
   "source": [
    "# 23. Merge two lists\n",
    "list1 = [1, 2, 3]\n",
    "list2 = [4, 5, 6]\n",
    "merged_list = list1 + list2\n",
    "print(merged_list)\n"
   ]
  },
  {
   "cell_type": "code",
   "execution_count": 77,
   "id": "f4273848",
   "metadata": {},
   "outputs": [
    {
     "name": "stdout",
     "output_type": "stream",
     "text": [
      "[2, 4, 6, 8, 10]\n"
     ]
    }
   ],
   "source": [
    "# 24. Multiply all elements in a list by 2\n",
    "my_list = [1, 2, 3, 4, 5]\n",
    "multiplied_list = [x * 2 for x in my_list]\n",
    "print(multiplied_list)\n"
   ]
  },
  {
   "cell_type": "code",
   "execution_count": 78,
   "id": "517bac05",
   "metadata": {},
   "outputs": [
    {
     "name": "stdout",
     "output_type": "stream",
     "text": [
      "[1, 3, 5, 7, 9]\n"
     ]
    }
   ],
   "source": [
    "# 25. Filter out all even numbers from a list\n",
    "my_list = [1, 2, 3, 4, 5, 6, 7, 8, 9, 10]\n",
    "filtered_list = [x for x in my_list if x % 2 != 0]\n",
    "print(filtered_list)\n"
   ]
  },
  {
   "cell_type": "code",
   "execution_count": 79,
   "id": "f0cd8b38",
   "metadata": {},
   "outputs": [
    {
     "name": "stdout",
     "output_type": "stream",
     "text": [
      "[1, 2, 3, 4, 5]\n"
     ]
    }
   ],
   "source": [
    "# 26. Convert a list of strings to a list of integers\n",
    "str_list = [\"1\", \"2\", \"3\", \"4\", \"5\"]\n",
    "int_list = [int(x) for x in str_list]\n",
    "print(int_list)\n"
   ]
  },
  {
   "cell_type": "code",
   "execution_count": 80,
   "id": "28179235",
   "metadata": {},
   "outputs": [
    {
     "name": "stdout",
     "output_type": "stream",
     "text": [
      "['1', '2', '3', '4', '5']\n"
     ]
    }
   ],
   "source": [
    "# 27. Convert a list of integers to a list of strings\n",
    "int_list = [1, 2, 3, 4, 5]\n",
    "str_list = [str(x) for x in int_list]\n",
    "print(str_list)\n"
   ]
  },
  {
   "cell_type": "code",
   "execution_count": 81,
   "id": "db6f0e74",
   "metadata": {},
   "outputs": [
    {
     "name": "stdout",
     "output_type": "stream",
     "text": [
      "[1, 2, 3, 4, 5, 6, 7, 8, 9]\n"
     ]
    }
   ],
   "source": [
    "# 28. Flatten a nested list\n",
    "nested_list = [[1, 2, 3], [4, 5], [6, 7, 8, 9]]\n",
    "flat_list = [item for sublist in nested_list for item in sublist]\n",
    "print(flat_list)\n"
   ]
  },
  {
   "cell_type": "code",
   "execution_count": 83,
   "id": "93a9b13a",
   "metadata": {},
   "outputs": [
    {
     "name": "stdout",
     "output_type": "stream",
     "text": [
      "[0, 1, 1, 2, 3, 5, 8, 13, 21, 34]\n"
     ]
    }
   ],
   "source": [
    "# 29. Create a list of the first 10 Fibonacci numbers\n",
    "fib_list = [0, 1]\n",
    "for _ in range(8):\n",
    "    fib_list.append(fib_list[-1] + fib_list[-2])\n",
    "print(fib_list)\n"
   ]
  },
  {
   "cell_type": "code",
   "execution_count": 84,
   "id": "23f83120",
   "metadata": {},
   "outputs": [
    {
     "name": "stdout",
     "output_type": "stream",
     "text": [
      "True\n"
     ]
    }
   ],
   "source": [
    "# 30. Check if a list is sorted\n",
    "my_list = [1, 2, 3, 4, 5]\n",
    "is_sorted = my_list == sorted(my_list)\n",
    "print(is_sorted)\n"
   ]
  },
  {
   "cell_type": "code",
   "execution_count": 85,
   "id": "eb3d7c9f",
   "metadata": {},
   "outputs": [
    {
     "name": "stdout",
     "output_type": "stream",
     "text": [
      "[3, 4, 5, 1, 2]\n"
     ]
    }
   ],
   "source": [
    "# 31. Rotate a list to the left by n positions\n",
    "my_list = [1, 2, 3, 4, 5]\n",
    "n = 2\n",
    "rotated_list = my_list[n:] + my_list[:n]\n",
    "print(rotated_list)\n"
   ]
  },
  {
   "cell_type": "code",
   "execution_count": 86,
   "id": "88253117",
   "metadata": {},
   "outputs": [
    {
     "name": "stdout",
     "output_type": "stream",
     "text": [
      "[4, 5, 1, 2, 3]\n"
     ]
    }
   ],
   "source": [
    "# 32. Rotate a list to the right by n positions\n",
    "my_list = [1, 2, 3, 4, 5]\n",
    "n = 2\n",
    "rotated_list = my_list[-n:] + my_list[:-n]\n",
    "print(rotated_list)\n"
   ]
  },
  {
   "cell_type": "code",
   "execution_count": 87,
   "id": "ea08f1ad",
   "metadata": {},
   "outputs": [
    {
     "name": "stdout",
     "output_type": "stream",
     "text": [
      "[2, 3, 5, 7, 11, 13, 17, 19, 23, 29, 31, 37, 41, 43, 47]\n"
     ]
    }
   ],
   "source": [
    "# 33. Create a list of prime numbers up to 50\n",
    "def is_prime(n):\n",
    "    if n <= 1:\n",
    "        return False\n",
    "    for i in range(2, int(n**0.5) + 1):\n",
    "        if n % i == 0:\n",
    "            return False\n",
    "    return True\n",
    "\n",
    "prime_list = [x for x in range(2, 51) if is_prime(x)]\n",
    "print(prime_list)\n"
   ]
  },
  {
   "cell_type": "code",
   "execution_count": 88,
   "id": "b58f174d",
   "metadata": {},
   "outputs": [
    {
     "name": "stdout",
     "output_type": "stream",
     "text": [
      "[[1, 2, 3], [4, 5, 6], [7, 8, 9], [10]]\n"
     ]
    }
   ],
   "source": [
    "# 34. Split a list into chunks of size n\n",
    "my_list = [1, 2, 3, 4, 5, 6, 7, 8, 9, 10]\n",
    "n = 3\n",
    "chunks = [my_list[i:i + n] for i in range(0, len(my_list), n)]\n",
    "print(chunks)\n"
   ]
  },
  {
   "cell_type": "code",
   "execution_count": 89,
   "id": "0afa8bb2",
   "metadata": {},
   "outputs": [
    {
     "name": "stdout",
     "output_type": "stream",
     "text": [
      "9\n"
     ]
    }
   ],
   "source": [
    "# 35. Find the second largest number in a list\n",
    "my_list = [1, 2, 3, 4, 5, 6, 7, 8, 9, 10]\n",
    "unique_list = list(set(my_list))\n",
    "unique_list.sort()\n",
    "second_largest = unique_list[-2]\n",
    "print(second_largest)\n"
   ]
  },
  {
   "cell_type": "code",
   "execution_count": 90,
   "id": "8dfc425a",
   "metadata": {},
   "outputs": [
    {
     "name": "stdout",
     "output_type": "stream",
     "text": [
      "[1, 4, 9, 16, 25]\n"
     ]
    }
   ],
   "source": [
    "# 36. Replace every element in a list with its square\n",
    "my_list = [1, 2, 3, 4, 5]\n",
    "squared_list = [x**2 for x in my_list]\n",
    "print(squared_list)\n"
   ]
  },
  {
   "cell_type": "code",
   "execution_count": 91,
   "id": "4d2c6609",
   "metadata": {},
   "outputs": [
    {
     "name": "stdout",
     "output_type": "stream",
     "text": [
      "{'a': 0, 'b': 1, 'c': 2, 'd': 3}\n"
     ]
    }
   ],
   "source": [
    "# 37. Convert a list to a dictionary where list elements become keys and their indices become values\n",
    "my_list = ['a', 'b', 'c', 'd']\n",
    "dict_from_list = {my_list[i]: i for i in range(len(my_list))}\n",
    "print(dict_from_list)\n"
   ]
  },
  {
   "cell_type": "code",
   "execution_count": 92,
   "id": "2914d07a",
   "metadata": {},
   "outputs": [
    {
     "name": "stdout",
     "output_type": "stream",
     "text": [
      "[5, 2, 4, 1, 3]\n"
     ]
    }
   ],
   "source": [
    "# 38. Shuffle the elements of a list randomly\n",
    "import random\n",
    "my_list = [1, 2, 3, 4, 5]\n",
    "random.shuffle(my_list)\n",
    "print(my_list)\n"
   ]
  },
  {
   "cell_type": "code",
   "execution_count": 93,
   "id": "de0c9a23",
   "metadata": {},
   "outputs": [
    {
     "name": "stdout",
     "output_type": "stream",
     "text": [
      "[1, 2, 6, 24, 120, 720, 5040, 40320, 362880, 3628800]\n"
     ]
    }
   ],
   "source": [
    "# 39. Create a list of the first 10 factorial numbers\n",
    "import math\n",
    "factorial_list = [math.factorial(x) for x in range(1, 11)]\n",
    "print(factorial_list)\n"
   ]
  },
  {
   "cell_type": "code",
   "execution_count": 94,
   "id": "89e8d333",
   "metadata": {},
   "outputs": [
    {
     "name": "stdout",
     "output_type": "stream",
     "text": [
      "True\n"
     ]
    }
   ],
   "source": [
    "# 40. Check if two lists have at least one element in common\n",
    "list1 = [1, 2, 3, 4, 5]\n",
    "list2 = [5, 6, 7, 8, 9]\n",
    "common_element = any(elem in list1 for elem in list2)\n",
    "print(common_element)\n"
   ]
  },
  {
   "cell_type": "code",
   "execution_count": 95,
   "id": "cd901125",
   "metadata": {},
   "outputs": [
    {
     "name": "stdout",
     "output_type": "stream",
     "text": [
      "[]\n"
     ]
    }
   ],
   "source": [
    "# 41. Remove all elements from a list\n",
    "my_list = [1, 2, 3, 4, 5]\n",
    "my_list.clear()\n",
    "print(my_list)\n"
   ]
  },
  {
   "cell_type": "code",
   "execution_count": 96,
   "id": "42627dbd",
   "metadata": {},
   "outputs": [
    {
     "name": "stdout",
     "output_type": "stream",
     "text": [
      "[1, 0, 3, 0, 5]\n"
     ]
    }
   ],
   "source": [
    "# 42. Replace negative numbers in a list with 0\n",
    "my_list = [1, -2, 3, -4, 5]\n",
    "replaced_list = [x if x >= 0 else 0 for x in my_list]\n",
    "print(replaced_list)\n"
   ]
  },
  {
   "cell_type": "code",
   "execution_count": 97,
   "id": "c2f7fb53",
   "metadata": {},
   "outputs": [
    {
     "name": "stdout",
     "output_type": "stream",
     "text": [
      "['Convert', 'this', 'string', 'into', 'a', 'list', 'of', 'words']\n"
     ]
    }
   ],
   "source": [
    "# 43. Convert a string into a list of words\n",
    "my_string = \"Convert this string into a list of words\"\n",
    "word_list = my_string.split()\n",
    "print(word_list)\n"
   ]
  },
  {
   "cell_type": "code",
   "execution_count": 98,
   "id": "5d4597fb",
   "metadata": {},
   "outputs": [
    {
     "name": "stdout",
     "output_type": "stream",
     "text": [
      "Convert this list into a string\n"
     ]
    }
   ],
   "source": [
    "# 44. Convert a list of words into a string\n",
    "word_list = [\"Convert\", \"this\", \"list\", \"into\", \"a\", \"string\"]\n",
    "my_string = \" \".join(word_list)\n",
    "print(my_string)\n"
   ]
  },
  {
   "cell_type": "code",
   "execution_count": 99,
   "id": "6bd41473",
   "metadata": {},
   "outputs": [
    {
     "name": "stdout",
     "output_type": "stream",
     "text": [
      "[1, 2, 4, 8, 16, 32, 64, 128, 256, 512]\n"
     ]
    }
   ],
   "source": [
    "# 45. Create a list of the first n powers of 2\n",
    "n = 10\n",
    "powers_of_2 = [2**x for x in range(n)]\n",
    "print(powers_of_2)\n"
   ]
  },
  {
   "cell_type": "code",
   "execution_count": 100,
   "id": "abfcaa74",
   "metadata": {},
   "outputs": [
    {
     "name": "stdout",
     "output_type": "stream",
     "text": [
      "banana\n"
     ]
    }
   ],
   "source": [
    "# 46. Find the longest string in a list of strings\n",
    "str_list = [\"apple\", \"banana\", \"cherry\", \"date\"]\n",
    "longest_string = max(str_list, key=len)\n",
    "print(longest_string)\n"
   ]
  },
  {
   "cell_type": "code",
   "execution_count": 101,
   "id": "c9984f47",
   "metadata": {},
   "outputs": [
    {
     "name": "stdout",
     "output_type": "stream",
     "text": [
      "date\n"
     ]
    }
   ],
   "source": [
    "# 47. Find the shortest string in a list of strings\n",
    "str_list = [\"apple\", \"banana\", \"cherry\", \"date\"]\n",
    "shortest_string = min(str_list, key=len)\n",
    "print(shortest_string)\n"
   ]
  },
  {
   "cell_type": "code",
   "execution_count": 102,
   "id": "bd2b43aa",
   "metadata": {},
   "outputs": [
    {
     "name": "stdout",
     "output_type": "stream",
     "text": [
      "[1, 3, 6, 10, 15, 21, 28, 36, 45, 55]\n"
     ]
    }
   ],
   "source": [
    "# 48. Create a list of the first n triangular numbers\n",
    "n = 10\n",
    "triangular_numbers = [(x * (x + 1)) // 2 for x in range(1, n + 1)]\n",
    "print(triangular_numbers)\n"
   ]
  },
  {
   "cell_type": "code",
   "execution_count": 103,
   "id": "24812070",
   "metadata": {},
   "outputs": [
    {
     "name": "stdout",
     "output_type": "stream",
     "text": [
      "True\n"
     ]
    }
   ],
   "source": [
    "# 49. Check if a list contains another list as a subsequence\n",
    "def is_subsequence(main_list, sub_list):\n",
    "    it = iter(main_list)\n",
    "    return all(elem in it for elem in sub_list)\n",
    "\n",
    "main_list = [1, 2, 3, 4, 5]\n",
    "sub_list = [2, 4]\n",
    "result = is_subsequence(main_list, sub_list)\n",
    "print(result)\n"
   ]
  },
  {
   "cell_type": "code",
   "execution_count": 104,
   "id": "851be0dc",
   "metadata": {},
   "outputs": [
    {
     "name": "stdout",
     "output_type": "stream",
     "text": [
      "[1, 4, 3, 2, 5]\n"
     ]
    }
   ],
   "source": [
    "# 50. Swap two elements in a list by their indices\n",
    "my_list = [1, 2, 3, 4, 5]\n",
    "i, j = 1, 3  \n",
    "my_list[i], my_list[j] = my_list[j], my_list[i]\n",
    "print(my_list)\n"
   ]
  },
  {
   "cell_type": "markdown",
   "id": "ab15b1c9",
   "metadata": {},
   "source": [
    "# Tuple Based Practice Problem :"
   ]
  },
  {
   "cell_type": "code",
   "execution_count": 105,
   "id": "7e890f64",
   "metadata": {},
   "outputs": [
    {
     "name": "stdout",
     "output_type": "stream",
     "text": [
      "(1, 2, 3, 4, 5)\n"
     ]
    }
   ],
   "source": [
    "# 1. Create a tuple with integers from 1 to 5\n",
    "my_tuple = tuple(range(1, 6))\n",
    "print(my_tuple)\n"
   ]
  },
  {
   "cell_type": "code",
   "execution_count": 106,
   "id": "b3a56791",
   "metadata": {},
   "outputs": [
    {
     "name": "stdout",
     "output_type": "stream",
     "text": [
      "3\n"
     ]
    }
   ],
   "source": [
    "# 2. Access the third element of a tuple\n",
    "my_tuple = (1, 2, 3, 4, 5)\n",
    "third_element = my_tuple[2]  # Indexing starts from 0\n",
    "print(third_element)\n"
   ]
  },
  {
   "cell_type": "code",
   "execution_count": 107,
   "id": "143c5eda",
   "metadata": {},
   "outputs": [
    {
     "name": "stdout",
     "output_type": "stream",
     "text": [
      "5\n"
     ]
    }
   ],
   "source": [
    "# 3. Find the length of a tuple without using the len() function\n",
    "my_tuple = (1, 2, 3, 4, 5)\n",
    "length = 0\n",
    "for _ in my_tuple:\n",
    "    length += 1\n",
    "print(length)\n"
   ]
  },
  {
   "cell_type": "code",
   "execution_count": 108,
   "id": "0467d625",
   "metadata": {},
   "outputs": [
    {
     "name": "stdout",
     "output_type": "stream",
     "text": [
      "3\n"
     ]
    }
   ],
   "source": [
    "# 4. Count the occurrences of an element in a tuple\n",
    "my_tuple = (1, 2, 2, 3, 3, 3, 4, 4, 4, 4, 5)\n",
    "element_count = my_tuple.count(3)\n",
    "print(element_count)\n"
   ]
  },
  {
   "cell_type": "code",
   "execution_count": 109,
   "id": "13bacf07",
   "metadata": {},
   "outputs": [
    {
     "name": "stdout",
     "output_type": "stream",
     "text": [
      "2\n"
     ]
    }
   ],
   "source": [
    "# 5. Find the index of the first occurrence of an element in a tuple\n",
    "my_tuple = (1, 2, 3, 4, 3, 5)\n",
    "index = my_tuple.index(3)\n",
    "print(index)\n"
   ]
  },
  {
   "cell_type": "code",
   "execution_count": 110,
   "id": "00265e01",
   "metadata": {},
   "outputs": [
    {
     "name": "stdout",
     "output_type": "stream",
     "text": [
      "True\n"
     ]
    }
   ],
   "source": [
    "# 6. Check if an element exists in a tuple\n",
    "my_tuple = (1, 2, 3, 4, 5)\n",
    "exists = 5 in my_tuple\n",
    "print(exists)\n"
   ]
  },
  {
   "cell_type": "code",
   "execution_count": 111,
   "id": "ff646bf6",
   "metadata": {},
   "outputs": [
    {
     "name": "stdout",
     "output_type": "stream",
     "text": [
      "[1, 2, 3, 4, 5]\n"
     ]
    }
   ],
   "source": [
    "# 7. Convert a tuple to a list\n",
    "my_tuple = (1, 2, 3, 4, 5)\n",
    "my_list = list(my_tuple)\n",
    "print(my_list)\n"
   ]
  },
  {
   "cell_type": "code",
   "execution_count": 112,
   "id": "4742a2bc",
   "metadata": {},
   "outputs": [
    {
     "name": "stdout",
     "output_type": "stream",
     "text": [
      "(1, 2, 3, 4, 5)\n"
     ]
    }
   ],
   "source": [
    "# 8. Convert a list to a tuple\n",
    "my_list = [1, 2, 3, 4, 5]\n",
    "my_tuple = tuple(my_list)\n",
    "print(my_tuple)\n"
   ]
  },
  {
   "cell_type": "code",
   "execution_count": 113,
   "id": "2cb7c8cc",
   "metadata": {},
   "outputs": [
    {
     "name": "stdout",
     "output_type": "stream",
     "text": [
      "1 2 3\n"
     ]
    }
   ],
   "source": [
    "# 9. Unpack the elements of a tuple into variables\n",
    "my_tuple = (1, 2, 3)\n",
    "a, b, c = my_tuple\n",
    "print(a, b, c)\n"
   ]
  },
  {
   "cell_type": "code",
   "execution_count": 114,
   "id": "ceb5035a",
   "metadata": {},
   "outputs": [
    {
     "name": "stdout",
     "output_type": "stream",
     "text": [
      "(2, 4, 6, 8, 10)\n"
     ]
    }
   ],
   "source": [
    "# 10. Create a tuple of even numbers from 1 to 10\n",
    "even_tuple = tuple(range(2, 11, 2))\n",
    "print(even_tuple)\n"
   ]
  },
  {
   "cell_type": "code",
   "execution_count": 115,
   "id": "3daeb36b",
   "metadata": {},
   "outputs": [
    {
     "name": "stdout",
     "output_type": "stream",
     "text": [
      "(1, 3, 5, 7, 9)\n"
     ]
    }
   ],
   "source": [
    "# 11. Create a tuple of odd numbers from 1 to 10\n",
    "odd_tuple = tuple(range(1, 11, 2))\n",
    "print(odd_tuple)\n"
   ]
  },
  {
   "cell_type": "code",
   "execution_count": 116,
   "id": "f9a60a49",
   "metadata": {},
   "outputs": [
    {
     "name": "stdout",
     "output_type": "stream",
     "text": [
      "(1, 2, 3, 4, 5, 6)\n"
     ]
    }
   ],
   "source": [
    "# 12. Concatenate two tuples\n",
    "tuple1 = (1, 2, 3)\n",
    "tuple2 = (4, 5, 6)\n",
    "concatenated_tuple = tuple1 + tuple2\n",
    "print(concatenated_tuple)\n"
   ]
  },
  {
   "cell_type": "code",
   "execution_count": 117,
   "id": "233d476d",
   "metadata": {},
   "outputs": [
    {
     "name": "stdout",
     "output_type": "stream",
     "text": [
      "(1, 2, 3, 1, 2, 3, 1, 2, 3)\n"
     ]
    }
   ],
   "source": [
    "# 13. Repeat a tuple three times\n",
    "my_tuple = (1, 2, 3)\n",
    "repeated_tuple = my_tuple * 3\n",
    "print(repeated_tuple)\n"
   ]
  },
  {
   "cell_type": "code",
   "execution_count": 118,
   "id": "b4fbaa7d",
   "metadata": {},
   "outputs": [
    {
     "name": "stdout",
     "output_type": "stream",
     "text": [
      "True\n"
     ]
    }
   ],
   "source": [
    "# 14. Check if a tuple is empty\n",
    "empty_tuple = ()\n",
    "is_empty = not empty_tuple\n",
    "print(is_empty)\n"
   ]
  },
  {
   "cell_type": "code",
   "execution_count": 119,
   "id": "bb4b6c03",
   "metadata": {},
   "outputs": [
    {
     "name": "stdout",
     "output_type": "stream",
     "text": [
      "((1, 2), (3, 4), (5, 6))\n"
     ]
    }
   ],
   "source": [
    "# 15. Create a nested tuple\n",
    "nested_tuple = ((1, 2), (3, 4), (5, 6))\n",
    "print(nested_tuple)\n"
   ]
  },
  {
   "cell_type": "code",
   "execution_count": 120,
   "id": "912b29ac",
   "metadata": {},
   "outputs": [
    {
     "name": "stdout",
     "output_type": "stream",
     "text": [
      "(1, 2)\n"
     ]
    }
   ],
   "source": [
    "# 16. Access the first element of a nested tuple\n",
    "nested_tuple = ((1, 2), (3, 4), (5, 6))\n",
    "first_element = nested_tuple[0]\n",
    "print(first_element)\n"
   ]
  },
  {
   "cell_type": "code",
   "execution_count": 121,
   "id": "12fcdbbe",
   "metadata": {},
   "outputs": [
    {
     "name": "stdout",
     "output_type": "stream",
     "text": [
      "(5,)\n"
     ]
    }
   ],
   "source": [
    "# 17. Create a tuple with a single element\n",
    "single_element_tuple = (5,)\n",
    "print(single_element_tuple)\n"
   ]
  },
  {
   "cell_type": "code",
   "execution_count": 122,
   "id": "99bef8b3",
   "metadata": {},
   "outputs": [
    {
     "name": "stdout",
     "output_type": "stream",
     "text": [
      "True\n"
     ]
    }
   ],
   "source": [
    "# 18. Compare two tuples\n",
    "tuple1 = (1, 2, 3)\n",
    "tuple2 = (1, 2, 3)\n",
    "are_equal = tuple1 == tuple2\n",
    "print(are_equal)\n"
   ]
  },
  {
   "cell_type": "code",
   "execution_count": 182,
   "id": "7f58898b",
   "metadata": {},
   "outputs": [
    {
     "ename": "NameError",
     "evalue": "name 'thistuple' is not defined",
     "output_type": "error",
     "traceback": [
      "\u001b[1;31m---------------------------------------------------------------------------\u001b[0m",
      "\u001b[1;31mNameError\u001b[0m                                 Traceback (most recent call last)",
      "Input \u001b[1;32mIn [182]\u001b[0m, in \u001b[0;36m<cell line: 4>\u001b[1;34m()\u001b[0m\n\u001b[0;32m      2\u001b[0m thistuple \u001b[38;5;241m=\u001b[39m (\u001b[38;5;124m\"\u001b[39m\u001b[38;5;124mapple\u001b[39m\u001b[38;5;124m\"\u001b[39m, \u001b[38;5;124m\"\u001b[39m\u001b[38;5;124mbanana\u001b[39m\u001b[38;5;124m\"\u001b[39m, \u001b[38;5;124m\"\u001b[39m\u001b[38;5;124mcherry\u001b[39m\u001b[38;5;124m\"\u001b[39m)\n\u001b[0;32m      3\u001b[0m \u001b[38;5;28;01mdel\u001b[39;00m thistuple\n\u001b[1;32m----> 4\u001b[0m \u001b[38;5;28mprint\u001b[39m(\u001b[43mthistuple\u001b[49m)\n",
      "\u001b[1;31mNameError\u001b[0m: name 'thistuple' is not defined"
     ]
    }
   ],
   "source": [
    "# 19. Delete a tuple\n",
    "thistuple = (\"apple\", \"banana\", \"cherry\")\n",
    "del thistuple\n",
    "print(thistuple)\n"
   ]
  },
  {
   "cell_type": "code",
   "execution_count": 127,
   "id": "b0aea374",
   "metadata": {},
   "outputs": [
    {
     "name": "stdout",
     "output_type": "stream",
     "text": [
      "(2, 3, 4)\n"
     ]
    }
   ],
   "source": [
    "# 20. Slice a tuple\n",
    "my_tuple = (1, 2, 3, 4, 5)\n",
    "sliced_tuple = my_tuple[1:4]  # Elements from index 1 to 3\n",
    "print(sliced_tuple)\n"
   ]
  },
  {
   "cell_type": "code",
   "execution_count": 183,
   "id": "de19a890",
   "metadata": {},
   "outputs": [
    {
     "name": "stdout",
     "output_type": "stream",
     "text": [
      "9\n"
     ]
    }
   ],
   "source": [
    "# 21. Find the maximum value in a tuple\n",
    "my_tuple = (3, 7, 2, 9, 5)\n",
    "max_value = max(my_tuple)\n",
    "print(max_value)\n"
   ]
  },
  {
   "cell_type": "code",
   "execution_count": 184,
   "id": "d6c962a4",
   "metadata": {},
   "outputs": [
    {
     "name": "stdout",
     "output_type": "stream",
     "text": [
      "2\n"
     ]
    }
   ],
   "source": [
    "# 22. Find the minimum value in a tuple\n",
    "my_tuple = (3, 7, 2, 9, 5)\n",
    "min_value = min(my_tuple)\n",
    "print(min_value)\n"
   ]
  },
  {
   "cell_type": "code",
   "execution_count": 185,
   "id": "64287573",
   "metadata": {},
   "outputs": [
    {
     "name": "stdout",
     "output_type": "stream",
     "text": [
      "('h', 'e', 'l', 'l', 'o')\n"
     ]
    }
   ],
   "source": [
    "# 23. Convert a string to a tuple of characters\n",
    "my_string = \"hello\"\n",
    "char_tuple = tuple(my_string)\n",
    "print(char_tuple)\n"
   ]
  },
  {
   "cell_type": "code",
   "execution_count": 186,
   "id": "d4d42c77",
   "metadata": {},
   "outputs": [
    {
     "name": "stdout",
     "output_type": "stream",
     "text": [
      "hello\n"
     ]
    }
   ],
   "source": [
    "# 24. Convert a tuple of characters to a string\n",
    "char_tuple = ('h', 'e', 'l', 'l', 'o')\n",
    "my_string = ''.join(char_tuple)\n",
    "print(my_string)\n"
   ]
  },
  {
   "cell_type": "code",
   "execution_count": 187,
   "id": "c5aafd46",
   "metadata": {},
   "outputs": [
    {
     "name": "stdout",
     "output_type": "stream",
     "text": [
      "(1, 'hello', 3.14, True)\n"
     ]
    }
   ],
   "source": [
    "# 25. Create a tuple from multiple data types\n",
    "mixed_tuple = (1, 'hello', 3.14, True)\n",
    "print(mixed_tuple)\n"
   ]
  },
  {
   "cell_type": "code",
   "execution_count": 188,
   "id": "ec1dc5f1",
   "metadata": {},
   "outputs": [
    {
     "name": "stdout",
     "output_type": "stream",
     "text": [
      "True\n"
     ]
    }
   ],
   "source": [
    "# 26. Check if two tuples are identical\n",
    "tuple1 = (1, 2, 3)\n",
    "tuple2 = (1, 2, 3)\n",
    "are_identical = tuple1 == tuple2\n",
    "print(are_identical)\n"
   ]
  },
  {
   "cell_type": "code",
   "execution_count": 189,
   "id": "86b3e4cf",
   "metadata": {},
   "outputs": [
    {
     "name": "stdout",
     "output_type": "stream",
     "text": [
      "(1, 1, 2, 3, 4, 5, 9)\n"
     ]
    }
   ],
   "source": [
    "# 27. Sort the elements of a tuple\n",
    "my_tuple = (3, 1, 4, 1, 5, 9, 2)\n",
    "sorted_tuple = tuple(sorted(my_tuple))\n",
    "print(sorted_tuple)\n"
   ]
  },
  {
   "cell_type": "code",
   "execution_count": 190,
   "id": "0f1add1b",
   "metadata": {},
   "outputs": [
    {
     "name": "stdout",
     "output_type": "stream",
     "text": [
      "('1', '2', '3', '4', '5')\n"
     ]
    }
   ],
   "source": [
    "# 28. Convert a tuple of integers to a tuple of strings\n",
    "int_tuple = (1, 2, 3, 4, 5)\n",
    "str_tuple = tuple(str(x) for x in int_tuple)\n",
    "print(str_tuple)\n"
   ]
  },
  {
   "cell_type": "code",
   "execution_count": 191,
   "id": "97a68dcf",
   "metadata": {},
   "outputs": [
    {
     "name": "stdout",
     "output_type": "stream",
     "text": [
      "(1, 2, 3, 4, 5)\n"
     ]
    }
   ],
   "source": [
    "# 29. Convert a tuple of strings to a tuple of integers\n",
    "str_tuple = ('1', '2', '3', '4', '5')\n",
    "int_tuple = tuple(int(x) for x in str_tuple)\n",
    "print(int_tuple)\n"
   ]
  },
  {
   "cell_type": "code",
   "execution_count": 192,
   "id": "58677354",
   "metadata": {},
   "outputs": [
    {
     "name": "stdout",
     "output_type": "stream",
     "text": [
      "(1, 2, 3, 4, 5, 6)\n"
     ]
    }
   ],
   "source": [
    "# 30. Merge two tuples\n",
    "tuple1 = (1, 2, 3)\n",
    "tuple2 = (4, 5, 6)\n",
    "merged_tuple = tuple1 + tuple2\n",
    "print(merged_tuple)\n"
   ]
  },
  {
   "cell_type": "code",
   "execution_count": 193,
   "id": "1d1018d5",
   "metadata": {},
   "outputs": [
    {
     "name": "stdout",
     "output_type": "stream",
     "text": [
      "(1, 2, 3, 4, 5, 6)\n"
     ]
    }
   ],
   "source": [
    "# 31. Flatten a nested tuple\n",
    "nested_tuple = ((1, 2), (3, 4), (5, 6))\n",
    "flattened_tuple = tuple(item for sublist in nested_tuple for item in sublist)\n",
    "print(flattened_tuple)\n"
   ]
  },
  {
   "cell_type": "code",
   "execution_count": 194,
   "id": "b84f1bd4",
   "metadata": {},
   "outputs": [
    {
     "name": "stdout",
     "output_type": "stream",
     "text": [
      "(2, 3, 5, 7, 11)\n"
     ]
    }
   ],
   "source": [
    "# 32. Create a tuple of the first 5 prime numbers\n",
    "prime_tuple = (2, 3, 5, 7, 11)\n",
    "print(prime_tuple)\n"
   ]
  },
  {
   "cell_type": "code",
   "execution_count": 195,
   "id": "1d2340af",
   "metadata": {},
   "outputs": [
    {
     "name": "stdout",
     "output_type": "stream",
     "text": [
      "True\n"
     ]
    }
   ],
   "source": [
    "# 33. Check if a tuple is a palindrome\n",
    "my_tuple = (1, 2, 3, 2, 1)\n",
    "is_palindrome = my_tuple == my_tuple[::-1]\n",
    "print(is_palindrome)\n"
   ]
  },
  {
   "cell_type": "code",
   "execution_count": 196,
   "id": "688c2941",
   "metadata": {},
   "outputs": [
    {
     "name": "stdout",
     "output_type": "stream",
     "text": [
      "(1, 4, 9, 16, 25)\n"
     ]
    }
   ],
   "source": [
    "# 34. Create a tuple of squares of numbers from 1 to 5\n",
    "squares_tuple = tuple(x ** 2 for x in range(1, 6))\n",
    "print(squares_tuple)\n"
   ]
  },
  {
   "cell_type": "code",
   "execution_count": 197,
   "id": "15ed29ff",
   "metadata": {},
   "outputs": [
    {
     "name": "stdout",
     "output_type": "stream",
     "text": [
      "(1, 3, 5, 7, 9)\n"
     ]
    }
   ],
   "source": [
    "# 35. Filter out all even numbers from a tuple\n",
    "my_tuple = (1, 2, 3, 4, 5, 6, 7, 8, 9, 10)\n",
    "filtered_tuple = tuple(x for x in my_tuple if x % 2 != 0)\n",
    "print(filtered_tuple)\n"
   ]
  },
  {
   "cell_type": "code",
   "execution_count": 198,
   "id": "a8b4ef09",
   "metadata": {},
   "outputs": [
    {
     "name": "stdout",
     "output_type": "stream",
     "text": [
      "(2, 4, 6, 8, 10)\n"
     ]
    }
   ],
   "source": [
    "# 36. Multiply all elements in a tuple by 2\n",
    "my_tuple = (1, 2, 3, 4, 5)\n",
    "multiplied_tuple = tuple(x * 2 for x in my_tuple)\n",
    "print(multiplied_tuple)\n"
   ]
  },
  {
   "cell_type": "code",
   "execution_count": 199,
   "id": "d51e4092",
   "metadata": {},
   "outputs": [
    {
     "name": "stdout",
     "output_type": "stream",
     "text": [
      "(71, 44, 54, 2, 49)\n"
     ]
    }
   ],
   "source": [
    "# 37. Create a tuple of random numbers\n",
    "import random\n",
    "random_tuple = tuple(random.randint(1, 100) for _ in range(5))\n",
    "print(random_tuple)\n"
   ]
  },
  {
   "cell_type": "code",
   "execution_count": 200,
   "id": "82ea0760",
   "metadata": {},
   "outputs": [
    {
     "name": "stdout",
     "output_type": "stream",
     "text": [
      "True\n"
     ]
    }
   ],
   "source": [
    "# 38. Check if a tuple is sorted\n",
    "my_tuple = (1, 2, 3, 4, 5)\n",
    "is_sorted = my_tuple == tuple(sorted(my_tuple))\n",
    "print(is_sorted)\n"
   ]
  },
  {
   "cell_type": "code",
   "execution_count": 201,
   "id": "ca7ad8d7",
   "metadata": {},
   "outputs": [
    {
     "name": "stdout",
     "output_type": "stream",
     "text": [
      "(3, 4, 5, 1, 2)\n"
     ]
    }
   ],
   "source": [
    "# 39. Rotate a tuple to the left by n positions\n",
    "def rotate_left_tuple(tuple, n):\n",
    "    return tuple[n % len(tuple):] + tuple[:n % len(tuple)]\n",
    "\n",
    "my_tuple = (1, 2, 3, 4, 5)\n",
    "rotated_tuple = rotate_left_tuple(my_tuple, 2)\n",
    "print(rotated_tuple)\n"
   ]
  },
  {
   "cell_type": "code",
   "execution_count": 202,
   "id": "2f97a8aa",
   "metadata": {},
   "outputs": [
    {
     "name": "stdout",
     "output_type": "stream",
     "text": [
      "(4, 5, 1, 2, 3)\n"
     ]
    }
   ],
   "source": [
    "# 40. Rotate a tuple to the right by n positions\n",
    "def rotate_right_tuple(tuple, n):\n",
    "    return tuple[-n % len(tuple):] + tuple[:-n % len(tuple)]\n",
    "\n",
    "my_tuple = (1, 2, 3, 4, 5)\n",
    "rotated_tuple = rotate_right_tuple(my_tuple, 2)\n",
    "print(rotated_tuple)\n"
   ]
  },
  {
   "cell_type": "code",
   "execution_count": 203,
   "id": "a96bf49a",
   "metadata": {},
   "outputs": [
    {
     "name": "stdout",
     "output_type": "stream",
     "text": [
      "(0, 1, 1, 2, 3)\n"
     ]
    }
   ],
   "source": [
    "# 41. Create a tuple of the first 5 Fibonacci numbers\n",
    "def fibonacci(n):\n",
    "    a, b = 0, 1\n",
    "    fib = []\n",
    "    for _ in range(n):\n",
    "        fib.append(a)\n",
    "        a, b = b, a + b\n",
    "    return tuple(fib)\n",
    "\n",
    "fibonacci_tuple = fibonacci(5)\n",
    "print(fibonacci_tuple)\n"
   ]
  },
  {
   "cell_type": "code",
   "execution_count": 204,
   "id": "19fc88f1",
   "metadata": {},
   "outputs": [
    {
     "name": "stdout",
     "output_type": "stream",
     "text": [
      "Enter elements separated by space: hi welcome to pwskills\n",
      "('hi', 'welcome', 'to', 'pwskills')\n"
     ]
    }
   ],
   "source": [
    "# 42. Create a tuple from user input\n",
    "user_input = input(\"Enter elements separated by space: \")\n",
    "user_tuple = tuple(user_input.split())\n",
    "print(user_tuple)\n"
   ]
  },
  {
   "cell_type": "code",
   "execution_count": 213,
   "id": "48370b25",
   "metadata": {},
   "outputs": [
    {
     "name": "stdout",
     "output_type": "stream",
     "text": [
      "The original list is : [(3, 4), (6, 5), (7, 8)]\n",
      "The swapped tuple list is : [(4, 3), (5, 6), (8, 7)]\n"
     ]
    }
   ],
   "source": [
    "# 43. Swap two elements in a tuple\n",
    "test_list = [(3, 4), (6, 5), (7, 8)]\n",
    "print(\"The original list is : \" + str(test_list))\n",
    "res = [(sub[1], sub[0]) for sub in test_list]\n",
    "print(\"The swapped tuple list is : \" + str(res))\n"
   ]
  },
  {
   "cell_type": "code",
   "execution_count": 206,
   "id": "d977c7a5",
   "metadata": {},
   "outputs": [
    {
     "name": "stdout",
     "output_type": "stream",
     "text": [
      "(5, 4, 3, 2, 1)\n"
     ]
    }
   ],
   "source": [
    "# 44. Reverse the elements of a tuple\n",
    "my_tuple = (1, 2, 3, 4, 5)\n",
    "reversed_tuple = my_tuple[::-1]\n",
    "print(reversed_tuple)\n"
   ]
  },
  {
   "cell_type": "code",
   "execution_count": 207,
   "id": "da110406",
   "metadata": {},
   "outputs": [
    {
     "name": "stdout",
     "output_type": "stream",
     "text": [
      "(2, 4, 8, 16, 32)\n"
     ]
    }
   ],
   "source": [
    "# 45. Create a tuple of the first n powers of 2\n",
    "n = 5\n",
    "powers_of_2_tuple = tuple(2 ** i for i in range(1, n + 1))\n",
    "print(powers_of_2_tuple)\n"
   ]
  },
  {
   "cell_type": "code",
   "execution_count": 208,
   "id": "ca970020",
   "metadata": {},
   "outputs": [
    {
     "name": "stdout",
     "output_type": "stream",
     "text": [
      "banana\n"
     ]
    }
   ],
   "source": [
    "# 46. Find the longest string in a tuple of strings\n",
    "my_tuple = (\"apple\", \"banana\", \"orange\", \"kiwi\")\n",
    "longest_string = max(my_tuple, key=len)\n",
    "print(longest_string)\n"
   ]
  },
  {
   "cell_type": "code",
   "execution_count": 209,
   "id": "a27f51ff",
   "metadata": {},
   "outputs": [
    {
     "name": "stdout",
     "output_type": "stream",
     "text": [
      "kiwi\n"
     ]
    }
   ],
   "source": [
    "# 47. Find the shortest string in a tuple of strings\n",
    "my_tuple = (\"apple\", \"banana\", \"orange\", \"kiwi\")\n",
    "shortest_string = min(my_tuple, key=len)\n",
    "print(shortest_string)\n"
   ]
  },
  {
   "cell_type": "code",
   "execution_count": 210,
   "id": "dcaf7e72",
   "metadata": {},
   "outputs": [
    {
     "name": "stdout",
     "output_type": "stream",
     "text": [
      "(1, 3, 6, 10, 15)\n"
     ]
    }
   ],
   "source": [
    "# 48. Create a tuple of the first n triangular numbers\n",
    "def triangular_number(n):\n",
    "    return n * (n + 1) // 2\n",
    "\n",
    "n = 5\n",
    "triangular_numbers_tuple = tuple(triangular_number(i) for i in range(1, n + 1))\n",
    "print(triangular_numbers_tuple)\n"
   ]
  },
  {
   "cell_type": "code",
   "execution_count": 211,
   "id": "89812815",
   "metadata": {},
   "outputs": [
    {
     "name": "stdout",
     "output_type": "stream",
     "text": [
      "True\n"
     ]
    }
   ],
   "source": [
    "# 49. Check if a tuple contains another tuple as a subsequence\n",
    "tuple1 = (1, 2, 3, 4, 5)\n",
    "tuple2 = (2, 3)\n",
    "is_subsequence = any(tuple2 == tuple1[i:i + len(tuple2)] for i in range(len(tuple1) - len(tuple2) + 1))\n",
    "print(is_subsequence)\n"
   ]
  },
  {
   "cell_type": "code",
   "execution_count": 212,
   "id": "e1a48d66",
   "metadata": {},
   "outputs": [
    {
     "name": "stdout",
     "output_type": "stream",
     "text": [
      "(1, 0, 1, 0, 1, 0, 1, 0, 1, 0)\n"
     ]
    }
   ],
   "source": [
    "# 50. Create a tuple of alternating 1s and 0s of length n\n",
    "n = 10\n",
    "alternating_tuple = tuple(1 if i % 2 == 0 else 0 for i in range(n))\n",
    "print(alternating_tuple)\n"
   ]
  },
  {
   "cell_type": "markdown",
   "id": "e6f353a0",
   "metadata": {},
   "source": [
    "# Set Based Practice Problem :"
   ]
  },
  {
   "cell_type": "code",
   "execution_count": 166,
   "id": "d5a64b29",
   "metadata": {},
   "outputs": [
    {
     "name": "stdout",
     "output_type": "stream",
     "text": [
      "{1, 2, 3, 4, 5}\n"
     ]
    }
   ],
   "source": [
    "# 1. Create a set with integers from 1 to 5\n",
    "my_set = {1, 2, 3, 4, 5}\n",
    "print(my_set)\n"
   ]
  },
  {
   "cell_type": "code",
   "execution_count": 167,
   "id": "977c07ad",
   "metadata": {},
   "outputs": [
    {
     "name": "stdout",
     "output_type": "stream",
     "text": [
      "{1, 2, 3, 4, 5, 6}\n"
     ]
    }
   ],
   "source": [
    "# 2. Add an element to a set\n",
    "my_set = {1, 2, 3, 4, 5}\n",
    "my_set.add(6)\n",
    "print(my_set)\n"
   ]
  },
  {
   "cell_type": "code",
   "execution_count": 168,
   "id": "4915eb74",
   "metadata": {},
   "outputs": [
    {
     "name": "stdout",
     "output_type": "stream",
     "text": [
      "{1, 2, 4, 5}\n"
     ]
    }
   ],
   "source": [
    "# 3. Remove an element from a set\n",
    "my_set = {1, 2, 3, 4, 5}\n",
    "my_set.remove(3)\n",
    "print(my_set)\n"
   ]
  },
  {
   "cell_type": "code",
   "execution_count": 169,
   "id": "73a9c64d",
   "metadata": {},
   "outputs": [
    {
     "name": "stdout",
     "output_type": "stream",
     "text": [
      "True\n"
     ]
    }
   ],
   "source": [
    "# 4. Check if an element exists in a set\n",
    "my_set = {1, 2, 3, 4, 5}\n",
    "exists = 5 in my_set\n",
    "print(exists)\n"
   ]
  },
  {
   "cell_type": "code",
   "execution_count": 170,
   "id": "959469e1",
   "metadata": {},
   "outputs": [
    {
     "name": "stdout",
     "output_type": "stream",
     "text": [
      "5\n"
     ]
    }
   ],
   "source": [
    "# 5. Find the length of a set without using the len() function\n",
    "my_set = {1, 2, 3, 4, 5}\n",
    "length = sum(1 for _ in my_set)\n",
    "print(length)\n"
   ]
  },
  {
   "cell_type": "code",
   "execution_count": 171,
   "id": "f6da3e23",
   "metadata": {},
   "outputs": [
    {
     "name": "stdout",
     "output_type": "stream",
     "text": [
      "set()\n"
     ]
    }
   ],
   "source": [
    "# 6. Clear all elements from a set\n",
    "my_set = {1, 2, 3, 4, 5}\n",
    "my_set.clear()\n",
    "print(my_set)\n"
   ]
  },
  {
   "cell_type": "code",
   "execution_count": 172,
   "id": "ba657c9f",
   "metadata": {},
   "outputs": [
    {
     "name": "stdout",
     "output_type": "stream",
     "text": [
      "{2, 4, 6, 8, 10}\n"
     ]
    }
   ],
   "source": [
    "# 7. Create a set of even numbers from 1 to 10\n",
    "even_set = {x for x in range(1, 11) if x % 2 == 0}\n",
    "print(even_set)\n"
   ]
  },
  {
   "cell_type": "code",
   "execution_count": 173,
   "id": "0b8ae775",
   "metadata": {},
   "outputs": [
    {
     "name": "stdout",
     "output_type": "stream",
     "text": [
      "{1, 3, 5, 7, 9}\n"
     ]
    }
   ],
   "source": [
    "# 8. Create a set of odd numbers from 1 to 10\n",
    "odd_set = {x for x in range(1, 11) if x % 2 != 0}\n",
    "print(odd_set)\n"
   ]
  },
  {
   "cell_type": "code",
   "execution_count": 174,
   "id": "abd4120c",
   "metadata": {},
   "outputs": [
    {
     "name": "stdout",
     "output_type": "stream",
     "text": [
      "{1, 2, 3, 4, 5}\n"
     ]
    }
   ],
   "source": [
    "# 9. Find the union of two sets\n",
    "set1 = {1, 2, 3}\n",
    "set2 = {3, 4, 5}\n",
    "union_set = set1.union(set2)\n",
    "print(union_set)\n"
   ]
  },
  {
   "cell_type": "code",
   "execution_count": 175,
   "id": "680f59a5",
   "metadata": {},
   "outputs": [
    {
     "name": "stdout",
     "output_type": "stream",
     "text": [
      "{3, 4}\n"
     ]
    }
   ],
   "source": [
    "# 10. Find the intersection of two sets\n",
    "set1 = {1, 2, 3, 4}\n",
    "set2 = {3, 4, 5, 6}\n",
    "intersection_set = set1.intersection(set2)\n",
    "print(intersection_set)\n"
   ]
  },
  {
   "cell_type": "code",
   "execution_count": 176,
   "id": "4cd13fae",
   "metadata": {},
   "outputs": [
    {
     "name": "stdout",
     "output_type": "stream",
     "text": [
      "{1, 2}\n"
     ]
    }
   ],
   "source": [
    "# 11. Find the difference between two sets\n",
    "set1 = {1, 2, 3, 4}\n",
    "set2 = {3, 4, 5, 6}\n",
    "difference_set = set1.difference(set2)\n",
    "print(difference_set)\n"
   ]
  },
  {
   "cell_type": "code",
   "execution_count": 177,
   "id": "a351c92f",
   "metadata": {},
   "outputs": [
    {
     "name": "stdout",
     "output_type": "stream",
     "text": [
      "True\n"
     ]
    }
   ],
   "source": [
    "# 12. Check if a set is a subset of another set\n",
    "set1 = {1, 2, 3}\n",
    "set2 = {1, 2, 3, 4, 5}\n",
    "is_subset = set1.issubset(set2)\n",
    "print(is_subset)\n"
   ]
  },
  {
   "cell_type": "code",
   "execution_count": 178,
   "id": "3c932b8e",
   "metadata": {},
   "outputs": [
    {
     "name": "stdout",
     "output_type": "stream",
     "text": [
      "True\n"
     ]
    }
   ],
   "source": [
    "# 13. Check if a set is a superset of another set\n",
    "set1 = {1, 2, 3, 4, 5}\n",
    "set2 = {1, 2, 3}\n",
    "is_superset = set1.issuperset(set2)\n",
    "print(is_superset)\n"
   ]
  },
  {
   "cell_type": "code",
   "execution_count": 179,
   "id": "e46240c8",
   "metadata": {},
   "outputs": [
    {
     "name": "stdout",
     "output_type": "stream",
     "text": [
      "{1, 2, 3, 4, 5}\n"
     ]
    }
   ],
   "source": [
    "# 14. Create a set from a list\n",
    "my_list = [1, 2, 3, 4, 5]\n",
    "set_from_list = set(my_list)\n",
    "print(set_from_list)\n"
   ]
  },
  {
   "cell_type": "code",
   "execution_count": 180,
   "id": "ca50d42c",
   "metadata": {},
   "outputs": [
    {
     "name": "stdout",
     "output_type": "stream",
     "text": [
      "[1, 2, 3, 4, 5]\n"
     ]
    }
   ],
   "source": [
    "# 15. Convert a set to a list\n",
    "my_set = {1, 2, 3, 4, 5}\n",
    "list_from_set = list(my_set)\n",
    "print(list_from_set)\n"
   ]
  },
  {
   "cell_type": "code",
   "execution_count": 128,
   "id": "a7564ac3",
   "metadata": {},
   "outputs": [
    {
     "name": "stdout",
     "output_type": "stream",
     "text": [
      "{1, 2, 4, 5}\n"
     ]
    }
   ],
   "source": [
    "# 16. Remove a random element from a set\n",
    "import random\n",
    "my_set = {1, 2, 3, 4, 5}\n",
    "random_element = random.choice(list(my_set))\n",
    "my_set.remove(random_element)\n",
    "print(my_set)\n"
   ]
  },
  {
   "cell_type": "code",
   "execution_count": 129,
   "id": "fcf75fd6",
   "metadata": {},
   "outputs": [
    {
     "name": "stdout",
     "output_type": "stream",
     "text": [
      "Popped element: 1\n",
      "Updated set: {2, 3, 4, 5}\n"
     ]
    }
   ],
   "source": [
    "# 17. Pop an element from a set\n",
    "my_set = {1, 2, 3, 4, 5}\n",
    "popped_element = my_set.pop()\n",
    "print(\"Popped element:\", popped_element)\n",
    "print(\"Updated set:\", my_set)\n"
   ]
  },
  {
   "cell_type": "code",
   "execution_count": 130,
   "id": "aa6ff856",
   "metadata": {},
   "outputs": [
    {
     "name": "stdout",
     "output_type": "stream",
     "text": [
      "True\n"
     ]
    }
   ],
   "source": [
    "# 18. Check if two sets have no elements in common\n",
    "set1 = {1, 2, 3}\n",
    "set2 = {4, 5, 6}\n",
    "no_common_elements = set1.isdisjoint(set2)\n",
    "print(no_common_elements)\n"
   ]
  },
  {
   "cell_type": "code",
   "execution_count": 131,
   "id": "aa323e63",
   "metadata": {},
   "outputs": [
    {
     "name": "stdout",
     "output_type": "stream",
     "text": [
      "{1, 2, 3, 6, 7, 8}\n"
     ]
    }
   ],
   "source": [
    "# 19. Find the symmetric difference between two sets\n",
    "set1 = {1, 2, 3, 4, 5}\n",
    "set2 = {4, 5, 6, 7, 8}\n",
    "symmetric_difference = set1.symmetric_difference(set2)\n",
    "print(symmetric_difference)\n"
   ]
  },
  {
   "cell_type": "code",
   "execution_count": 132,
   "id": "e4546919",
   "metadata": {},
   "outputs": [
    {
     "name": "stdout",
     "output_type": "stream",
     "text": [
      "{1, 2, 3, 4, 5}\n"
     ]
    }
   ],
   "source": [
    "# 20. Update a set with elements from another set\n",
    "set1 = {1, 2, 3}\n",
    "set2 = {3, 4, 5}\n",
    "set1.update(set2)\n",
    "print(set1)\n"
   ]
  },
  {
   "cell_type": "code",
   "execution_count": 133,
   "id": "541d2e0f",
   "metadata": {},
   "outputs": [
    {
     "name": "stdout",
     "output_type": "stream",
     "text": [
      "{2, 3, 5, 7, 11}\n"
     ]
    }
   ],
   "source": [
    "# 21. Create a set of the first 5 prime numbers\n",
    "prime_set = {2, 3, 5, 7, 11}\n",
    "print(prime_set)\n"
   ]
  },
  {
   "cell_type": "code",
   "execution_count": 134,
   "id": "d80aa47d",
   "metadata": {},
   "outputs": [
    {
     "name": "stdout",
     "output_type": "stream",
     "text": [
      "True\n"
     ]
    }
   ],
   "source": [
    "# 22. Check if two sets are identical\n",
    "set1 = {1, 2, 3}\n",
    "set2 = {3, 2, 1}\n",
    "are_identical = set1 == set2\n",
    "print(are_identical)\n"
   ]
  },
  {
   "cell_type": "code",
   "execution_count": 135,
   "id": "245911e9",
   "metadata": {},
   "outputs": [
    {
     "name": "stdout",
     "output_type": "stream",
     "text": [
      "frozenset({1, 2, 3, 4, 5})\n"
     ]
    }
   ],
   "source": [
    "# 23. Create a frozen set\n",
    "my_frozen_set = frozenset({1, 2, 3, 4, 5})\n",
    "print(my_frozen_set)\n"
   ]
  },
  {
   "cell_type": "code",
   "execution_count": 136,
   "id": "e351a19f",
   "metadata": {},
   "outputs": [
    {
     "name": "stdout",
     "output_type": "stream",
     "text": [
      "True\n"
     ]
    }
   ],
   "source": [
    "# 24. Check if a set is disjoint with another set\n",
    "set1 = {1, 2, 3}\n",
    "set2 = {4, 5, 6}\n",
    "is_disjoint = set1.isdisjoint(set2)\n",
    "print(is_disjoint)\n"
   ]
  },
  {
   "cell_type": "code",
   "execution_count": 137,
   "id": "b35c6dfd",
   "metadata": {},
   "outputs": [
    {
     "name": "stdout",
     "output_type": "stream",
     "text": [
      "{1, 4, 9, 16, 25}\n"
     ]
    }
   ],
   "source": [
    "# 25. Create a set of squares of numbers from 1 to 5\n",
    "squares_set = {x**2 for x in range(1, 6)}\n",
    "print(squares_set)\n"
   ]
  },
  {
   "cell_type": "code",
   "execution_count": 138,
   "id": "5cc5ef8e",
   "metadata": {},
   "outputs": [
    {
     "name": "stdout",
     "output_type": "stream",
     "text": [
      "{1, 3, 5, 7, 9}\n"
     ]
    }
   ],
   "source": [
    "# 26. Filter out all even numbers from a set\n",
    "my_set = {1, 2, 3, 4, 5, 6, 7, 8, 9, 10}\n",
    "filtered_set = {x for x in my_set if x % 2 != 0}\n",
    "print(filtered_set)\n"
   ]
  },
  {
   "cell_type": "code",
   "execution_count": 139,
   "id": "4f812018",
   "metadata": {},
   "outputs": [
    {
     "name": "stdout",
     "output_type": "stream",
     "text": [
      "{2, 4, 6, 8, 10}\n"
     ]
    }
   ],
   "source": [
    "# 27. Multiply all elements in a set by 2\n",
    "my_set = {1, 2, 3, 4, 5}\n",
    "multiplied_set = {x * 2 for x in my_set}\n",
    "print(multiplied_set)\n"
   ]
  },
  {
   "cell_type": "code",
   "execution_count": 140,
   "id": "1b8238e8",
   "metadata": {},
   "outputs": [
    {
     "name": "stdout",
     "output_type": "stream",
     "text": [
      "{97, 67, 39, 42, 48, 20, 59, 29, 62}\n"
     ]
    }
   ],
   "source": [
    "# 28. Create a set of random numbers\n",
    "import random\n",
    "random_set = {random.randint(1, 100) for _ in range(10)}\n",
    "print(random_set)\n"
   ]
  },
  {
   "cell_type": "code",
   "execution_count": 141,
   "id": "eb591ef9",
   "metadata": {},
   "outputs": [
    {
     "name": "stdout",
     "output_type": "stream",
     "text": [
      "True\n"
     ]
    }
   ],
   "source": [
    "# 29. Check if a set is empty\n",
    "my_set = set()\n",
    "is_empty = not my_set\n",
    "print(is_empty)\n"
   ]
  },
  {
   "cell_type": "code",
   "execution_count": 142,
   "id": "bbb28a04",
   "metadata": {},
   "outputs": [
    {
     "name": "stdout",
     "output_type": "stream",
     "text": [
      "{frozenset({3, 4}), frozenset({1, 2})}\n"
     ]
    }
   ],
   "source": [
    "# 30. Create a nested set (hint: use frozenset)\n",
    "nested_set = {frozenset({1, 2}), frozenset({3, 4})}\n",
    "print(nested_set)\n"
   ]
  },
  {
   "cell_type": "code",
   "execution_count": 143,
   "id": "f591955a",
   "metadata": {},
   "outputs": [
    {
     "name": "stdout",
     "output_type": "stream",
     "text": [
      "{1, 2, 4, 5}\n"
     ]
    }
   ],
   "source": [
    "# 31. Remove an element from a set using the discard method\n",
    "my_set = {1, 2, 3, 4, 5}\n",
    "my_set.discard(3)\n",
    "print(my_set)\n"
   ]
  },
  {
   "cell_type": "code",
   "execution_count": 144,
   "id": "c0d5e7c7",
   "metadata": {},
   "outputs": [
    {
     "name": "stdout",
     "output_type": "stream",
     "text": [
      "True\n"
     ]
    }
   ],
   "source": [
    "# 32. Compare two sets\n",
    "set1 = {1, 2, 3}\n",
    "set2 = {3, 2, 1}\n",
    "are_equal = set1 == set2\n",
    "print(are_equal)\n"
   ]
  },
  {
   "cell_type": "code",
   "execution_count": 145,
   "id": "a10e75c4",
   "metadata": {},
   "outputs": [
    {
     "name": "stdout",
     "output_type": "stream",
     "text": [
      "{'h', 'o', 'e', 'l'}\n"
     ]
    }
   ],
   "source": [
    "# 33. Create a set from a string\n",
    "my_string = \"hello\"\n",
    "string_set = set(my_string)\n",
    "print(string_set)\n"
   ]
  },
  {
   "cell_type": "code",
   "execution_count": 146,
   "id": "84ee4590",
   "metadata": {},
   "outputs": [
    {
     "name": "stdout",
     "output_type": "stream",
     "text": [
      "{1, 2, 3, 4, 5}\n"
     ]
    }
   ],
   "source": [
    "# 34. Convert a set of strings to a set of integers\n",
    "string_set = {\"1\", \"2\", \"3\", \"4\", \"5\"}\n",
    "int_set = {int(x) for x in string_set}\n",
    "print(int_set)\n"
   ]
  },
  {
   "cell_type": "code",
   "execution_count": 147,
   "id": "c3d99212",
   "metadata": {},
   "outputs": [
    {
     "name": "stdout",
     "output_type": "stream",
     "text": [
      "{'4', '1', '2', '5', '3'}\n"
     ]
    }
   ],
   "source": [
    "# 35. Convert a set of integers to a set of strings\n",
    "int_set = {1, 2, 3, 4, 5}\n",
    "string_set = {str(x) for x in int_set}\n",
    "print(string_set)\n"
   ]
  },
  {
   "cell_type": "code",
   "execution_count": 148,
   "id": "a2d56940",
   "metadata": {},
   "outputs": [
    {
     "name": "stdout",
     "output_type": "stream",
     "text": [
      "{1, 2, 3, 4, 5}\n"
     ]
    }
   ],
   "source": [
    "# 36. Create a set from a tuple\n",
    "my_tuple = (1, 2, 3, 4, 5)\n",
    "tuple_set = set(my_tuple)\n",
    "print(tuple_set)\n",
    "\n"
   ]
  },
  {
   "cell_type": "code",
   "execution_count": 149,
   "id": "4d99735f",
   "metadata": {},
   "outputs": [
    {
     "name": "stdout",
     "output_type": "stream",
     "text": [
      "(1, 2, 3, 4, 5)\n"
     ]
    }
   ],
   "source": [
    "# 37. Convert a set to a tuple\n",
    "my_set = {1, 2, 3, 4, 5}\n",
    "tuple_from_set = tuple(my_set)\n",
    "print(tuple_from_set)\n"
   ]
  },
  {
   "cell_type": "code",
   "execution_count": 150,
   "id": "7c9e7312",
   "metadata": {},
   "outputs": [
    {
     "name": "stdout",
     "output_type": "stream",
     "text": [
      "9\n"
     ]
    }
   ],
   "source": [
    "# 38. Find the maximum value in a set\n",
    "my_set = {3, 7, 2, 9, 5}\n",
    "max_value = max(my_set)\n",
    "print(max_value)\n"
   ]
  },
  {
   "cell_type": "code",
   "execution_count": 151,
   "id": "b9a0594f",
   "metadata": {},
   "outputs": [
    {
     "name": "stdout",
     "output_type": "stream",
     "text": [
      "2\n"
     ]
    }
   ],
   "source": [
    "# 39. Find the minimum value in a set\n",
    "my_set = {3, 7, 2, 9, 5}\n",
    "min_value = min(my_set)\n",
    "print(min_value)\n"
   ]
  },
  {
   "cell_type": "code",
   "execution_count": 152,
   "id": "64fee528",
   "metadata": {},
   "outputs": [
    {
     "name": "stdout",
     "output_type": "stream",
     "text": [
      "Enter elements separated by space: hi welcome to pwskills\n",
      "{'pwskills', 'to', 'welcome', 'hi'}\n"
     ]
    }
   ],
   "source": [
    "# 40. Create a set from user input\n",
    "user_input = input(\"Enter elements separated by space: \")\n",
    "user_set = set(user_input.split())\n",
    "print(user_set)\n"
   ]
  },
  {
   "cell_type": "code",
   "execution_count": 153,
   "id": "f60d9331",
   "metadata": {},
   "outputs": [
    {
     "name": "stdout",
     "output_type": "stream",
     "text": [
      "True\n"
     ]
    }
   ],
   "source": [
    "# 41. Check if the intersection of two sets is empty\n",
    "set1 = {1, 2, 3}\n",
    "set2 = {4, 5, 6}\n",
    "is_empty_intersection = set1.isdisjoint(set2)\n",
    "print(is_empty_intersection)\n"
   ]
  },
  {
   "cell_type": "code",
   "execution_count": 154,
   "id": "ee94da75",
   "metadata": {},
   "outputs": [
    {
     "name": "stdout",
     "output_type": "stream",
     "text": [
      "{0, 1, 2, 3}\n"
     ]
    }
   ],
   "source": [
    "# 42. Create a set of the first 5 Fibonacci numbers\n",
    "fibonacci_set = {0, 1, 1, 2, 3}\n",
    "print(fibonacci_set)\n"
   ]
  },
  {
   "cell_type": "code",
   "execution_count": 155,
   "id": "06015c2c",
   "metadata": {},
   "outputs": [
    {
     "name": "stdout",
     "output_type": "stream",
     "text": [
      "[1, 2, 3, 4, 5]\n"
     ]
    }
   ],
   "source": [
    "# 43. Remove duplicates from a list using sets\n",
    "my_list = [1, 2, 2, 3, 4, 4, 5]\n",
    "unique_list = list(set(my_list))\n",
    "print(unique_list)\n"
   ]
  },
  {
   "cell_type": "code",
   "execution_count": 156,
   "id": "c40c5eac",
   "metadata": {},
   "outputs": [
    {
     "name": "stdout",
     "output_type": "stream",
     "text": [
      "True\n"
     ]
    }
   ],
   "source": [
    "# 44. Check if two sets have the same elements, regardless of their count\n",
    "set1 = {1, 2, 3, 3}\n",
    "set2 = {1, 1, 2, 3}\n",
    "same_elements = set1 == set2\n",
    "print(same_elements)\n"
   ]
  },
  {
   "cell_type": "code",
   "execution_count": 157,
   "id": "ef21e858",
   "metadata": {},
   "outputs": [
    {
     "name": "stdout",
     "output_type": "stream",
     "text": [
      "{1, 2, 4, 8, 16}\n"
     ]
    }
   ],
   "source": [
    "# 45. Create a set of the first n powers of 2\n",
    "n = 5\n",
    "powers_of_2_set = {2 ** x for x in range(n)}\n",
    "print(powers_of_2_set)\n"
   ]
  },
  {
   "cell_type": "code",
   "execution_count": 158,
   "id": "f40e8d30",
   "metadata": {},
   "outputs": [
    {
     "name": "stdout",
     "output_type": "stream",
     "text": [
      "{4, 5}\n"
     ]
    }
   ],
   "source": [
    "# 46. Find the common elements between a set and a list\n",
    "set1 = {1, 2, 3, 4, 5}\n",
    "list1 = [4, 5, 6, 7, 8]\n",
    "common_elements = set1.intersection(list1)\n",
    "print(common_elements)\n",
    "\n"
   ]
  },
  {
   "cell_type": "code",
   "execution_count": 162,
   "id": "768812a2",
   "metadata": {},
   "outputs": [
    {
     "name": "stdout",
     "output_type": "stream",
     "text": [
      "1 3 6 10 15 "
     ]
    }
   ],
   "source": [
    "# 47. Create a set of the first n triangular numbers\n",
    "def triangular_series( n ):\n",
    "    j = 1\n",
    "    k = 1\n",
    "    for i in range(1, n + 1):\n",
    "        print(k, end = ' ')\n",
    "        j = j + 1 \n",
    "        k = k + j \n",
    "         \n",
    "n = 5\n",
    "triangular_series(n)\n"
   ]
  },
  {
   "cell_type": "code",
   "execution_count": 163,
   "id": "f5736567",
   "metadata": {},
   "outputs": [
    {
     "name": "stdout",
     "output_type": "stream",
     "text": [
      "True\n"
     ]
    }
   ],
   "source": [
    "# 48. Check if a set contains another set as a subset\n",
    "set1 = {1, 2, 3, 4, 5}\n",
    "set2 = {2, 3}\n",
    "is_subset = set2.issubset(set1)\n",
    "print(is_subset)\n"
   ]
  },
  {
   "cell_type": "code",
   "execution_count": 164,
   "id": "4593b4b2",
   "metadata": {},
   "outputs": [
    {
     "name": "stdout",
     "output_type": "stream",
     "text": [
      "{0, 1}\n"
     ]
    }
   ],
   "source": [
    "# 49. Create a set of alternating 1s and 0s of length n\n",
    "n = 10\n",
    "alternating_set = {1 if i % 2 == 0 else 0 for i in range(n)}\n",
    "print(alternating_set)\n"
   ]
  },
  {
   "cell_type": "code",
   "execution_count": 165,
   "id": "bff6e65a",
   "metadata": {},
   "outputs": [
    {
     "name": "stdout",
     "output_type": "stream",
     "text": [
      "{1, 2, 3, 4, 5, 6, 7}\n"
     ]
    }
   ],
   "source": [
    "# 50. Merge multiple sets into one\n",
    "set1 = {1, 2, 3}\n",
    "set2 = {3, 4, 5}\n",
    "set3 = {5, 6, 7}\n",
    "merged_set = set1.union(set2, set3)\n",
    "print(merged_set)\n"
   ]
  },
  {
   "cell_type": "code",
   "execution_count": null,
   "id": "b68c625a",
   "metadata": {},
   "outputs": [],
   "source": []
  }
 ],
 "metadata": {
  "kernelspec": {
   "display_name": "Python 3 (ipykernel)",
   "language": "python",
   "name": "python3"
  },
  "language_info": {
   "codemirror_mode": {
    "name": "ipython",
    "version": 3
   },
   "file_extension": ".py",
   "mimetype": "text/x-python",
   "name": "python",
   "nbconvert_exporter": "python",
   "pygments_lexer": "ipython3",
   "version": "3.9.12"
  }
 },
 "nbformat": 4,
 "nbformat_minor": 5
}
